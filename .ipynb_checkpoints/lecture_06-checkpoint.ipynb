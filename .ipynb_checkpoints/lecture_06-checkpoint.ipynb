{
 "cells": [
  {
   "cell_type": "markdown",
   "id": "d6dc34a5",
   "metadata": {
    "slideshow": {
     "slide_type": "slide"
    }
   },
   "source": [
    "<div align=\"center\">\n",
    "    <h1>DS-210: Programming for Data Science</h1>\n",
    "    <h1>Lecture 6</h1>\n",
    "</div>\n",
    "\n",
    "\n",
    "# Rust: Project manager (`cargo`). Flow control (continued).  Tuples.\n"
   ]
  },
  {
   "cell_type": "markdown",
   "id": "114efa8d",
   "metadata": {},
   "source": [
    "## Source of Truth\n",
    "* https://doc.rust-lang.org/stable/book/"
   ]
  },
  {
   "cell_type": "markdown",
   "id": "175fe097",
   "metadata": {
    "slideshow": {
     "slide_type": "slide"
    }
   },
   "source": [
    "## Project manager: `cargo`\n",
    "\n",
    "* create a project: `cargo new PROJECT-NAME`\n",
    "* main file will be `PROJECT-NAME/src/main.rs`"
   ]
  },
  {
   "cell_type": "markdown",
   "id": "88d663dc",
   "metadata": {
    "slideshow": {
     "slide_type": "fragment"
    }
   },
   "source": [
    "* to run: `cargo run`\n",
    "* to just build: `cargo build`"
   ]
  },
  {
   "cell_type": "markdown",
   "id": "28971575",
   "metadata": {
    "slideshow": {
     "slide_type": "fragment"
    }
   },
   "source": [
    "Add `--release` to create a \"fully optimized\" version:\n",
    " * longer compilation\n",
    " * faster execution\n",
    " * some runtime checks not included (e.g., integer overflow)\n",
    " * debuging information not included\n",
    " * the executable in a different folder"
   ]
  },
  {
   "cell_type": "markdown",
   "id": "07f59bff",
   "metadata": {
    "slideshow": {
     "slide_type": "subslide"
    }
   },
   "source": [
    "## Project manager: `cargo`\n",
    "\n",
    "If you just want to **check** if your current version compiles: `cargo check`\n",
    "  * Much faster for big projects"
   ]
  },
  {
   "cell_type": "markdown",
   "id": "0c337e18",
   "metadata": {},
   "source": [
    "## Making rust work with Jupyter notebook (possibly conda as well)\n",
    "\n",
    "cargo install evcxr_jupyter  \n",
    "evcxr_jupyter --install"
   ]
  },
  {
   "cell_type": "markdown",
   "id": "fa8c4ea1",
   "metadata": {
    "slideshow": {
     "slide_type": "slide"
    }
   },
   "source": [
    "## Conditional expressions: `if`\n",
    "\n"
   ]
  },
  {
   "cell_type": "markdown",
   "id": "056a71de",
   "metadata": {
    "cell_style": "split"
   },
   "source": [
    "Syntax:\n",
    "```rust\n",
    "if condition {\n",
    "    DO-SOMETHING-HERE\n",
    "} else {\n",
    "    DO-SOMETHING-ELSE-HERE\n",
    "}\n",
    "```\n",
    "* `else` part optional\n",
    "* Compared to many C-like languages:\n",
    "  * no parentheses around `condition` needed!\n",
    "  * the braces mandatory"
   ]
  },
  {
   "cell_type": "code",
   "execution_count": 2,
   "id": "156d7df1",
   "metadata": {
    "cell_style": "split",
    "slideshow": {
     "slide_type": "fragment"
    }
   },
   "outputs": [
    {
     "name": "stdout",
     "output_type": "stream",
     "text": [
      "x is not greater than 15\n"
     ]
    }
   ],
   "source": [
    "let x = 7;\n",
    "if x <= 15 {\n",
    "    println!(\"x is not greater than 15\");\n",
    "};"
   ]
  },
  {
   "cell_type": "code",
   "execution_count": 3,
   "id": "8a61681a",
   "metadata": {
    "cell_style": "split",
    "slideshow": {
     "slide_type": "fragment"
    }
   },
   "outputs": [
    {
     "name": "stdout",
     "output_type": "stream",
     "text": [
      "x is greater than 5\n"
     ]
    }
   ],
   "source": [
    "let threshold = 5;\n",
    "if x <= threshold {\n",
    "    println!(\"x is at most {}\",threshold);\n",
    "} else {\n",
    "    println!(\"x is greater than {}\", threshold);\n",
    "};"
   ]
  },
  {
   "cell_type": "markdown",
   "id": "eab245e6",
   "metadata": {
    "slideshow": {
     "slide_type": "subslide"
    }
   },
   "source": [
    "## Using conditional expressions as values"
   ]
  },
  {
   "cell_type": "markdown",
   "id": "356d9fe4",
   "metadata": {
    "cell_style": "split"
   },
   "source": [
    "Python:\n",
    "```python\n",
    "100 if (x == 7) else 200 \n",
    "```\n",
    "\n",
    "C++:\n",
    "```c++\n",
    "(x == 7) ? 100 : 200\n",
    "```\n",
    "\n",
    "Rust:\n",
    "```rust\n",
    "if x == 7 {100} else {200}\n",
    "```"
   ]
  },
  {
   "cell_type": "code",
   "execution_count": 6,
   "id": "7007ec3e",
   "metadata": {
    "cell_style": "split",
    "slideshow": {
     "slide_type": "fragment"
    }
   },
   "outputs": [
    {
     "name": "stdout",
     "output_type": "stream",
     "text": [
      "1\n"
     ]
    }
   ],
   "source": [
    "let x = 4;\n",
    "let z = if x == 7 {100} else {1};\n",
    "println!(\"{}\",z);"
   ]
  },
  {
   "cell_type": "code",
   "execution_count": 7,
   "id": "c0621f80",
   "metadata": {
    "cell_style": "split",
    "slideshow": {
     "slide_type": "fragment"
    }
   },
   "outputs": [
    {
     "ename": "Error",
     "evalue": "`if` and `else` have incompatible types",
     "output_type": "error",
     "traceback": [
      "\u001b[31m[E0308] Error:\u001b[0m `if` and `else` have incompatible types",
      "   \u001b[38;5;246m╭\u001b[0m\u001b[38;5;246m─\u001b[0m\u001b[38;5;246m[\u001b[0mcommand_7:1:1\u001b[38;5;246m]\u001b[0m",
      "   \u001b[38;5;246m│\u001b[0m",
      " \u001b[38;5;246m2 │\u001b[0m \u001b[38;5;249mp\u001b[0m\u001b[38;5;249mr\u001b[0m\u001b[38;5;249mi\u001b[0m\u001b[38;5;249mn\u001b[0m\u001b[38;5;249mt\u001b[0m\u001b[38;5;249ml\u001b[0m\u001b[38;5;249mn\u001b[0m\u001b[38;5;249m!\u001b[0m\u001b[38;5;249m(\u001b[0m\u001b[38;5;249m\"\u001b[0m\u001b[38;5;249m{\u001b[0m\u001b[38;5;249m}\u001b[0m\u001b[38;5;249m\"\u001b[0m\u001b[38;5;249m,\u001b[0m\u001b[38;5;249mi\u001b[0m\u001b[38;5;249mf\u001b[0m\u001b[38;5;249m \u001b[0m\u001b[38;5;249mx\u001b[0m\u001b[38;5;249m \u001b[0m\u001b[38;5;249m=\u001b[0m\u001b[38;5;249m=\u001b[0m\u001b[38;5;249m \u001b[0m\u001b[38;5;249m7\u001b[0m\u001b[38;5;249m \u001b[0m\u001b[38;5;249m{\u001b[0m\u001b[38;5;100m1\u001b[0m\u001b[38;5;100m0\u001b[0m\u001b[38;5;100m0\u001b[0m\u001b[38;5;249m}\u001b[0m\u001b[38;5;249m \u001b[0m\u001b[38;5;249me\u001b[0m\u001b[38;5;249ml\u001b[0m\u001b[38;5;249ms\u001b[0m\u001b[38;5;249me\u001b[0m\u001b[38;5;249m \u001b[0m\u001b[38;5;249m{\u001b[0m\u001b[38;5;54m1\u001b[0m\u001b[38;5;54m.\u001b[0m\u001b[38;5;54m2\u001b[0m\u001b[38;5;249m}\u001b[0m\u001b[38;5;249m)\u001b[0m\u001b[38;5;249m;\u001b[0m",
      " \u001b[38;5;240m  │\u001b[0m                          \u001b[38;5;100m─\u001b[0m\u001b[38;5;100m┬\u001b[0m\u001b[38;5;100m─\u001b[0m        \u001b[38;5;54m─\u001b[0m\u001b[38;5;54m┬\u001b[0m\u001b[38;5;54m─\u001b[0m  ",
      " \u001b[38;5;240m  │\u001b[0m                           \u001b[38;5;100m╰\u001b[0m\u001b[38;5;100m─\u001b[0m\u001b[38;5;100m─\u001b[0m\u001b[38;5;100m─\u001b[0m\u001b[38;5;100m─\u001b[0m\u001b[38;5;100m─\u001b[0m\u001b[38;5;100m─\u001b[0m\u001b[38;5;100m─\u001b[0m\u001b[38;5;100m─\u001b[0m\u001b[38;5;100m─\u001b[0m\u001b[38;5;100m─\u001b[0m\u001b[38;5;100m─\u001b[0m\u001b[38;5;100m─\u001b[0m\u001b[38;5;100m─\u001b[0m\u001b[38;5;100m─\u001b[0m expected because of this",
      " \u001b[38;5;240m  │\u001b[0m                                      \u001b[38;5;54m│\u001b[0m   ",
      " \u001b[38;5;240m  │\u001b[0m                                      \u001b[38;5;54m╰\u001b[0m\u001b[38;5;54m─\u001b[0m\u001b[38;5;54m─\u001b[0m\u001b[38;5;54m─\u001b[0m expected integer, found floating-point number",
      "\u001b[38;5;246m───╯\u001b[0m"
     ]
    }
   ],
   "source": [
    "// won't work: same type needed\n",
    "println!(\"{}\",if x == 7 {100} else {1.2});"
   ]
  },
  {
   "cell_type": "code",
   "execution_count": 8,
   "id": "94557663",
   "metadata": {
    "cell_style": "split",
    "slideshow": {
     "slide_type": "fragment"
    }
   },
   "outputs": [
    {
     "name": "stdout",
     "output_type": "stream",
     "text": [
      "17\n"
     ]
    }
   ],
   "source": [
    "// blocks can be more complicated\n",
    "// last expression counts (no semicolon after)\n",
    "// But please don't write this just because you can\n",
    "let z = if x == 4 {\n",
    "    let t = x * x;\n",
    "    t + 1\n",
    "} else {\n",
    "    x + 1\n",
    "};\n",
    "println!(\"{}\",z);"
   ]
  },
  {
   "cell_type": "code",
   "execution_count": 9,
   "id": "427a8971",
   "metadata": {
    "cell_style": "split"
   },
   "outputs": [
    {
     "name": "stdout",
     "output_type": "stream",
     "text": [
      "17\n"
     ]
    },
    {
     "data": {
      "text/plain": [
       "()"
      ]
     },
     "execution_count": 9,
     "metadata": {},
     "output_type": "execute_result"
    }
   ],
   "source": [
    "// Write this instead\n",
    "let x = 4;\n",
    "let z;\n",
    "if x == 4 { z = x*x+1 } else { z = x+1};\n",
    "println!(\"{}\", z)"
   ]
  },
  {
   "cell_type": "markdown",
   "id": "240d4cc3",
   "metadata": {},
   "source": [
    "### A winner of the most obscure code competition (https://www.ioccc.org/)\n",
    "```C\n",
    "#include <stdio.h> \n",
    "\n",
    "#define N(a)       \"%\"#a\"$hhn\"\n",
    "#define O(a,b)     \"%10$\"#a\"d\"N(b)\n",
    "#define U          \"%10$.*37$d\"\n",
    "#define G(a)       \"%\"#a\"$s\"\n",
    "#define H(a,b)     G(a)G(b)\n",
    "#define T(a)       a a \n",
    "#define s(a)       T(a)T(a)\n",
    "#define A(a)       s(a)T(a)a\n",
    "#define n(a)       A(a)a\n",
    "#define D(a)       n(a)A(a)\n",
    "#define C(a)       D(a)a\n",
    "#define R          C(C(N(12)G(12)))\n",
    "#define o(a,b,c)   C(H(a,a))D(G(a))C(H(b,b)G(b))n(G(b))O(32,c)R\n",
    "#define SS         O(78,55)R \"\\n\\033[2J\\n%26$s\";\n",
    "#define E(a,b,c,d) H(a,b)G(c)O(253,11)R G(11)O(255,11)R H(11,d)N(d)O(253,35)R\n",
    "#define S(a,b)     O(254,11)H(a,b)N(68)R G(68)O(255,68)N(12)H(12,68)G(67)N(67)\n",
    "\n",
    "char* fmt = O(10,39)N(40)N(41)N(42)N(43)N(66)N(69)N(24)O(22,65)O(5,70)O(8,44)N(\n",
    "            45)N(46)N    (47)N(48)N(    49)N( 50)N(     51)N(52)N(53    )O( 28,\n",
    "            54)O(5,        55) O(2,    56)O(3,57)O(      4,58 )O(13,    73)O(4,\n",
    "            71 )N(   72)O   (20,59    )N(60)N(61)N(       62)N (63)N    (64)R R\n",
    "            E(1,2,   3,13   )E(4,    5,6,13)E(7,8,9        ,13)E(1,4    ,7,13)E\n",
    "            (2,5,8,        13)E(    3,6,9,13)E(1,5,         9,13)E(3    ,5,7,13\n",
    "            )E(14,15,    16,23)    E(17,18,19,23)E(          20, 21,    22,23)E\n",
    "            (14,17,20,23)E(15,    18,21,23)E(16,19,    22     ,23)E(    14, 18,\n",
    "            22,23)E(16,18,20,    23)R U O(255 ,38)R    G (     38)O(    255,36)\n",
    "            R H(13,23)O(255,    11)R H(11,36) O(254    ,36)     R G(    36 ) O(\n",
    "            255,36)R S(1,14    )S(2,15)S(3, 16)S(4,    17 )S     (5,    18)S(6,\n",
    "            19)S(7,20)S(8,    21)S(9    ,22)H(13,23    )H(36,     67    )N(11)R\n",
    "            G(11)\"\"O(255,    25 )R        s(C(G(11)    ))n (G(          11) )G(\n",
    "            11)N(54)R C(    \"aa\")   s(A(   G(25)))T    (G(25))N         (69)R o\n",
    "            (14,1,26)o(    15, 2,   27)o   (16,3,28    )o( 17,4,        29)o(18\n",
    "            ,5,30)o(19    ,6,31)o(        20,7,32)o    (21,8,33)o       (22 ,9,\n",
    "            34)n(C(U)    )N( 68)R H(    36,13)G(23)    N(11)R C(D(      G(11)))\n",
    "            D(G(11))G(68)N(68)R G(68)O(49,35)R H(13,23)G(67)N(11)R C(H(11,11)G(\n",
    "            11))A(G(11))C(H(36,36)G(36))s(G(36))O(32,58)R C(D(G(36)))A(G(36))SS\n",
    "\n",
    "#define arg d+6,d+8,d+10,d+12,d+14,d+16,d+18,d+20,d+22,0,d+46,d+52,d+48,d+24,d\\\n",
    "            +26,d+28,d+30,d+32,d+34,d+36,d+38,d+40,d+50,(scanf(d+126,d+4),d+(6\\\n",
    "            -2)+18*(1-d[2]%2)+d[4]*2),d,d+66,d+68,d+70, d+78,d+80,d+82,d+90,d+\\\n",
    "            92,d+94,d+97,d+54,d[2],d+2,d+71,d+77,d+83,d+89,d+95,d+72,d+73,d+74\\\n",
    "            ,d+75,d+76,d+84,d+85,d+86,d+87,d+88,d+100,d+101,d+96,d+102,d+99,d+\\\n",
    "            67,d+69,d+79,d+81,d+91,d+93,d+98,d+103,d+58,d+60,d+98,d+126,d+127,\\\n",
    "            d+128,d+129\n",
    "\n",
    "char d[538] = {1,0,10,0,10};\n",
    "\n",
    "int main() {\n",
    "    while(*d) printf(fmt, arg);\n",
    "}\n",
    "```"
   ]
  },
  {
   "cell_type": "markdown",
   "id": "05cbafb3",
   "metadata": {
    "slideshow": {
     "slide_type": "slide"
    }
   },
   "source": [
    "## Functions\n",
    "Syntax:\n",
    "```rust\n",
    "fn function_name(argname_1:type_1,argname_2:type_2) -> type_ret {\n",
    "    DO-SOMETHING-HERE-AND-RETURN-A-VALUE\n",
    "}\n",
    "```"
   ]
  },
  {
   "cell_type": "code",
   "execution_count": 11,
   "id": "113a23d6",
   "metadata": {
    "slideshow": {
     "slide_type": "fragment"
    }
   },
   "outputs": [
    {
     "data": {
      "text/plain": [
       "200.0"
      ]
     },
     "execution_count": 11,
     "metadata": {},
     "output_type": "execute_result"
    }
   ],
   "source": [
    "fn multiply(x:i32, y:i32) -> f32 {\n",
    "    // note: no need to write \"return x * y\"\n",
    "    return (x * y) as f32;\n",
    "}\n",
    "\n",
    "multiply(10,20)"
   ]
  },
  {
   "cell_type": "code",
   "execution_count": 12,
   "id": "7a8421ab",
   "metadata": {
    "slideshow": {
     "slide_type": "fragment"
    }
   },
   "outputs": [
    {
     "data": {
      "text/plain": [
       "false"
      ]
     },
     "execution_count": 12,
     "metadata": {},
     "output_type": "execute_result"
    }
   ],
   "source": [
    "// But if you add a return then you need a semicolon unless it is the last statement in the function\n",
    "// Please use returns and add semicolons everywhere.  It's easier to read.\n",
    "fn and(p:bool, q:bool, r:bool) -> bool {\n",
    "    if !p {\n",
    "        return false;\n",
    "    }\n",
    "    if !q {\n",
    "        return false;\n",
    "    }\n",
    "    r // return r without the semicolon also works here\n",
    "}\n",
    "and(true,false,true)\n"
   ]
  },
  {
   "cell_type": "markdown",
   "id": "cfd0973f",
   "metadata": {
    "slideshow": {
     "slide_type": "subslide"
    }
   },
   "source": [
    "## Functions: returning no value"
   ]
  },
  {
   "cell_type": "markdown",
   "id": "0518a6a7",
   "metadata": {
    "cell_style": "split",
    "slideshow": {
     "slide_type": "-"
    }
   },
   "source": [
    "**How:** skip the type of returned value part"
   ]
  },
  {
   "cell_type": "code",
   "execution_count": 13,
   "id": "7a6cbabc",
   "metadata": {
    "cell_style": "split"
   },
   "outputs": [
    {
     "name": "stdout",
     "output_type": "stream",
     "text": [
      "Hello, world!\n",
      "Hello, Boston!\n",
      "Hello, MCS B37!\n"
     ]
    }
   ],
   "source": [
    "fn say_hello(who:&str) {\n",
    "    println!(\"Hello, {}!\",who);\n",
    "}\n",
    " \n",
    "say_hello(\"world\");\n",
    "say_hello(\"Boston\");\n",
    "say_hello(\"MCS B37\");"
   ]
  },
  {
   "cell_type": "markdown",
   "id": "9b757672",
   "metadata": {
    "cell_style": "split",
    "slideshow": {
     "slide_type": "fragment"
    }
   },
   "source": [
    "Nothing returned equivalent to the unit type, `()`"
   ]
  },
  {
   "cell_type": "code",
   "execution_count": 14,
   "id": "49e52ead",
   "metadata": {
    "cell_style": "split"
   },
   "outputs": [
    {
     "name": "stdout",
     "output_type": "stream",
     "text": [
      "Good night room\n",
      "Good night moon\n",
      "Good night cow jumping over the moon\n",
      "The function returned ()\n"
     ]
    },
    {
     "data": {
      "text/plain": [
       "()"
      ]
     },
     "execution_count": 14,
     "metadata": {},
     "output_type": "execute_result"
    }
   ],
   "source": [
    "fn say_good_night(who:&str) -> () {\n",
    "    println!(\"Good night {}\",who);\n",
    "}\n",
    "\n",
    "say_good_night(\"room\");\n",
    "say_good_night(\"moon\");\n",
    "let z = say_good_night(\"cow jumping over the moon\");\n",
    "println!(\"The function returned {:?}\", z)"
   ]
  },
  {
   "cell_type": "markdown",
   "id": "4b7ea379",
   "metadata": {
    "slideshow": {
     "slide_type": "slide"
    }
   },
   "source": [
    "## Loops: `for`\n",
    "Usage: iterate over an iterator, range, or collection"
   ]
  },
  {
   "cell_type": "code",
   "execution_count": 15,
   "id": "5e7d0301",
   "metadata": {
    "cell_style": "split"
   },
   "outputs": [
    {
     "name": "stdout",
     "output_type": "stream",
     "text": [
      "1\n",
      "2\n",
      "3\n",
      "4\n"
     ]
    }
   ],
   "source": [
    "for i in 1..5 {\n",
    "    println!(\"{}\",i);\n",
    "};"
   ]
  },
  {
   "cell_type": "code",
   "execution_count": 16,
   "id": "3416004c",
   "metadata": {
    "cell_style": "split",
    "slideshow": {
     "slide_type": "fragment"
    }
   },
   "outputs": [
    {
     "name": "stdout",
     "output_type": "stream",
     "text": [
      "4\n",
      "3\n",
      "2\n",
      "1\n"
     ]
    }
   ],
   "source": [
    "// reverse order\n",
    "for i in (1..5).rev() {\n",
    "    println!(\"{}\",i)\n",
    "};"
   ]
  },
  {
   "cell_type": "code",
   "execution_count": 17,
   "id": "00179b17",
   "metadata": {
    "cell_style": "split",
    "slideshow": {
     "slide_type": "fragment"
    }
   },
   "outputs": [
    {
     "name": "stdout",
     "output_type": "stream",
     "text": [
      "1\n",
      "2\n",
      "3\n",
      "4\n",
      "5\n"
     ]
    }
   ],
   "source": [
    "// closed range\n",
    "for i in 1..=5 {\n",
    "    println!(\"{}\",i);\n",
    "};"
   ]
  },
  {
   "cell_type": "code",
   "execution_count": 18,
   "id": "34851888",
   "metadata": {
    "cell_style": "split",
    "slideshow": {
     "slide_type": "fragment"
    }
   },
   "outputs": [
    {
     "name": "stdout",
     "output_type": "stream",
     "text": [
      "This is a test\n",
      "1\n",
      "This is a test\n",
      "3\n",
      "And now for the reverse\n",
      "3\n",
      "1\n",
      "But....\n",
      "4\n",
      "2\n"
     ]
    }
   ],
   "source": [
    "// every other element \n",
    "for i in (1..5).step_by(2) {\n",
    "    println!(\"This is a test\");\n",
    "    println!(\"{}\",i);\n",
    "};\n",
    "println!(\"And now for the reverse\");\n",
    "for i in (1..5).step_by(2).rev() {\n",
    "    println!(\"{}\",i)\n",
    "};\n",
    "println!(\"But....\");\n",
    "for i in (1..5).rev().step_by(2) {\n",
    "    println!(\"{}\",i);\n",
    "};\n"
   ]
  },
  {
   "cell_type": "markdown",
   "id": "55722421",
   "metadata": {
    "slideshow": {
     "slide_type": "subslide"
    }
   },
   "source": [
    "## Arrays and `for` over an array\n",
    "\n",
    "* Arrays in Rust are of fixed length (we'll learn about more flexible `Vec` later)\n",
    "* All elements of the same type\n",
    "* You can not add or remove elements from an array (but you can change its value)\n",
    "* Python **does not**  have arrays natively"
   ]
  },
  {
   "cell_type": "code",
   "execution_count": 31,
   "id": "9fc39f41",
   "metadata": {
    "cell_style": "split"
   },
   "outputs": [
    {
     "name": "stdout",
     "output_type": "stream",
     "text": [
      "1 13\n"
     ]
    }
   ],
   "source": [
    "// simplest definition\n",
    "// compiler guessing element type to be i32\n",
    "// indexing starts at 0\n",
    "let mut arr = [1,7,2,5,2];\n",
    "arr[1] = 13;\n",
    "println!(\"{} {}\",arr[0],arr[1]);"
   ]
  },
  {
   "cell_type": "code",
   "execution_count": 32,
   "id": "2a27271d",
   "metadata": {
    "cell_style": "split",
    "slideshow": {
     "slide_type": "fragment"
    }
   },
   "outputs": [
    {
     "name": "stdout",
     "output_type": "stream",
     "text": [
      "1\n",
      "2\n",
      "2\n",
      "5\n",
      "13\n"
     ]
    }
   ],
   "source": [
    "arr.sort();\n",
    "// loop over the array\n",
    "for x in arr {\n",
    "    println!(\"{}\",x);\n",
    "};"
   ]
  },
  {
   "cell_type": "code",
   "execution_count": 19,
   "id": "e3853b9c",
   "metadata": {
    "cell_style": "split",
    "slideshow": {
     "slide_type": "fragment"
    }
   },
   "outputs": [
    {
     "name": "stdout",
     "output_type": "stream",
     "text": [
      "15 15 15 \n"
     ]
    }
   ],
   "source": [
    "// create array of given length\n",
    "// and fill it with a specific value\n",
    "let arr2 = [15;3];\n",
    "for x in arr2 {\n",
    "    print!(\"{} \",x);\n",
    "}\n",
    "println!();"
   ]
  },
  {
   "cell_type": "code",
   "execution_count": 20,
   "id": "c122f2fd",
   "metadata": {
    "cell_style": "split",
    "slideshow": {
     "slide_type": "fragment"
    }
   },
   "outputs": [
    {
     "name": "stdout",
     "output_type": "stream",
     "text": [
      "15\n"
     ]
    }
   ],
   "source": [
    "// with type definition included\n",
    "let arr3 : [u8;3] = [15;3]; \n",
    "println!(\"{}\", arr3[2]);"
   ]
  },
  {
   "cell_type": "code",
   "execution_count": 21,
   "id": "a9c86a4a",
   "metadata": {
    "cell_style": "split",
    "slideshow": {
     "slide_type": "fragment"
    }
   },
   "outputs": [
    {
     "data": {
      "text/plain": [
       "3"
      ]
     },
     "execution_count": 21,
     "metadata": {},
     "output_type": "execute_result"
    }
   ],
   "source": [
    "// get the length\n",
    "arr3.len()"
   ]
  },
  {
   "cell_type": "code",
   "execution_count": 36,
   "id": "a1999fcb",
   "metadata": {},
   "outputs": [
    {
     "name": "stdout",
     "output_type": "stream",
     "text": [
      "X is 1\n",
      "X is 2\n",
      "X is 3\n",
      "X is 4\n",
      "X is 6\n",
      "X is 7\n",
      "X is 8\n",
      "X is 9\n",
      "Result is 20\n"
     ]
    }
   ],
   "source": [
    "// loop keyword similar to while (True) in Python\n",
    "// break and continue keywords behave as you would expect\n",
    "let mut x = 1;\n",
    "let result = loop {\n",
    "    if x == 5 {\n",
    "        x = x+1;\n",
    "        continue;\n",
    "    }\n",
    "    println!(\"X is {}\", x);\n",
    "    x = x + 1;\n",
    "    if x==10 {\n",
    "        break x*2;\n",
    "    }\n",
    "};\n",
    "println!(\"Result is {}\", result);"
   ]
  },
  {
   "cell_type": "code",
   "execution_count": 37,
   "id": "890da968",
   "metadata": {},
   "outputs": [
    {
     "name": "stdout",
     "output_type": "stream",
     "text": [
      "3!\n",
      "2!\n",
      "1!\n",
      "LIFTOFF!!!\n"
     ]
    }
   ],
   "source": [
    "let mut number = 3;\n",
    "\n",
    "while number != 0 {\n",
    "    println!(\"{number}!\");\n",
    "    number -= 1;\n",
    "}\n",
    "println!(\"LIFTOFF!!!\");\n"
   ]
  },
  {
   "cell_type": "markdown",
   "id": "8ca71a53",
   "metadata": {
    "slideshow": {
     "slide_type": "subslide"
    }
   },
   "source": [
    "## Infinite loop: `loop`\n",
    "```rust\n",
    "loop {\n",
    "    // DO SOMETHING HERE\n",
    "}\n",
    "```\n",
    "\n",
    "Need to use `break` to jump out of the loop!"
   ]
  },
  {
   "cell_type": "code",
   "execution_count": 9,
   "id": "4ca9e45f",
   "metadata": {
    "cell_style": "split"
   },
   "outputs": [
    {
     "data": {
      "text/plain": [
       "15"
      ]
     },
     "execution_count": 9,
     "metadata": {},
     "output_type": "execute_result"
    }
   ],
   "source": [
    "let mut x = 1;\n",
    "loop {\n",
    "    if (x + 1) * (x + 1) >= 250 {break;}\n",
    "    x += 1;\n",
    "}\n",
    "x"
   ]
  },
  {
   "cell_type": "markdown",
   "id": "7226ddd4",
   "metadata": {
    "cell_style": "split",
    "slideshow": {
     "slide_type": "fragment"
    }
   },
   "source": [
    "* `loop` can return a value!\n",
    "* `break` can act like `return`"
   ]
  },
  {
   "cell_type": "code",
   "execution_count": 10,
   "id": "1f895cd1",
   "metadata": {
    "cell_style": "split"
   },
   "outputs": [
    {
     "data": {
      "text/plain": [
       "15"
      ]
     },
     "execution_count": 10,
     "metadata": {},
     "output_type": "execute_result"
    }
   ],
   "source": [
    "let mut x = 1;\n",
    "let y = loop {\n",
    "    if x * x >= 250 {break x - 1;}\n",
    "    x += 1;\n",
    "};\n",
    "y"
   ]
  },
  {
   "cell_type": "markdown",
   "id": "c63a67b3",
   "metadata": {
    "slideshow": {
     "slide_type": "slide"
    }
   },
   "source": [
    "## Advanced `break` and `continue`"
   ]
  },
  {
   "cell_type": "markdown",
   "id": "d9ed358d",
   "metadata": {
    "cell_style": "split"
   },
   "source": [
    "* work in all loops\n",
    "* `break`: terminate the execution\n",
    "  * can return a value in `loop`\n",
    "* `continue`: terminate this iteration and jump to the next one\n",
    "  * in `while`, the condition will be checked\n",
    "  * in `for`, there may be no next iteration\n",
    "  * `break` and `continue` can use labels"
   ]
  },
  {
   "cell_type": "code",
   "execution_count": 11,
   "id": "8c2eea69",
   "metadata": {
    "cell_style": "split",
    "slideshow": {
     "slide_type": "fragment"
    }
   },
   "outputs": [
    {
     "name": "stdout",
     "output_type": "stream",
     "text": [
      "3\n",
      "6\n",
      "9\n"
     ]
    }
   ],
   "source": [
    "for i in 1..=10 {\n",
    "    if i % 3 != 0 {continue;}\n",
    "    println!(\"{}\",i);\n",
    "};\n",
    "\n",
    "\n"
   ]
  },
  {
   "cell_type": "code",
   "execution_count": 6,
   "id": "d125807e",
   "metadata": {
    "cell_style": "split"
   },
   "outputs": [
    {
     "name": "stdout",
     "output_type": "stream",
     "text": [
      "Hi outer loop\n",
      "Hi inner loop\n",
      "Hi outer loop\n",
      "Hi inner loop\n",
      "In the middle\n",
      "X is 3\n",
      "Hi inner loop\n",
      "Hi outer loop\n",
      "Hi inner loop\n",
      "Hi outer loop\n",
      "Hi inner loop\n",
      "In the middle\n",
      "X is 6\n",
      "Hi inner loop\n",
      "Hi outer loop\n",
      "Hi inner loop\n",
      "Hi outer loop\n",
      "Hi inner loop\n",
      "In the middle\n",
      "X is 9\n",
      "Hi inner loop\n",
      "Hi outer loop\n",
      "Hi inner loop\n",
      "Hi outer loop\n",
      "Hi inner loop\n",
      "In the middle\n",
      "Managed to escape! :-) with x 12\n"
     ]
    }
   ],
   "source": [
    "let mut x = 1;\n",
    "'outer_loop: loop {\n",
    "    println!(\"Hi outer loop\");\n",
    "    'inner_loop: loop {\n",
    "        println!(\"Hi inner loop\");\n",
    "        x = x + 1;\n",
    "        if x % 3 != 0 {\n",
    "            continue 'outer_loop;\n",
    "        }\n",
    "        println!(\"In the middle\");\n",
    "        if x >= 10 {\n",
    "            break 'outer_loop;\n",
    "        }\n",
    "        println!(\"X is {}\", x);\n",
    "    }\n",
    "    println!(\"In the end\");\n",
    "};\n",
    "println!(\"Managed to escape! :-) with x {}\", x);"
   ]
  },
  {
   "cell_type": "code",
   "execution_count": 7,
   "id": "054b3ce9",
   "metadata": {
    "cell_style": "split"
   },
   "outputs": [
    {
     "name": "stdout",
     "output_type": "stream",
     "text": [
      "Hi outer loop\n",
      "Hi inner loop\n",
      "In the end\n",
      "Hi outer loop\n",
      "Hi inner loop\n",
      "In the middle\n",
      "X is 3\n",
      "Hi inner loop\n",
      "In the end\n",
      "Hi outer loop\n",
      "Hi inner loop\n",
      "In the end\n",
      "Hi outer loop\n",
      "Hi inner loop\n",
      "In the middle\n",
      "X is 6\n",
      "Hi inner loop\n",
      "In the end\n",
      "Hi outer loop\n",
      "Hi inner loop\n",
      "In the end\n",
      "Hi outer loop\n",
      "Hi inner loop\n",
      "In the middle\n",
      "X is 9\n",
      "Hi inner loop\n",
      "In the end\n",
      "Hi outer loop\n",
      "Hi inner loop\n",
      "In the end\n",
      "Hi outer loop\n",
      "Hi inner loop\n",
      "In the middle\n",
      "Managed to escape! :-) with x 12\n"
     ]
    }
   ],
   "source": [
    "let mut x = 1;\n",
    "'outer_loop: loop {\n",
    "    println!(\"Hi outer loop\");\n",
    "    'inner_loop: loop {\n",
    "        println!(\"Hi inner loop\");\n",
    "        x = x + 1;\n",
    "        if x % 3 != 0 {\n",
    "            break 'inner_loop;\n",
    "        }\n",
    "        println!(\"In the middle\");\n",
    "        if x >= 10 {\n",
    "            break 'outer_loop;\n",
    "        }\n",
    "        println!(\"X is {}\", x);\n",
    "    }\n",
    "    println!(\"In the end\");\n",
    "};\n",
    "println!(\"Managed to escape! :-) with x {}\", x);"
   ]
  },
  {
   "cell_type": "code",
   "execution_count": 12,
   "id": "832d68c6",
   "metadata": {
    "cell_style": "center",
    "slideshow": {
     "slide_type": "fragment"
    }
   },
   "outputs": [
    {
     "name": "stdout",
     "output_type": "stream",
     "text": [
      "1234\n"
     ]
    }
   ],
   "source": [
    "let x = 'outer_loop: loop {\n",
    "    loop { break 'outer_loop 1234;}\n",
    "};\n",
    "println!(\"{}\",x);"
   ]
  },
  {
   "cell_type": "markdown",
   "id": "c956c8a4",
   "metadata": {
    "slideshow": {
     "slide_type": "slide"
    }
   },
   "source": [
    "## Tuples\n"
   ]
  },
  {
   "cell_type": "markdown",
   "id": "ce876183",
   "metadata": {
    "cell_style": "split"
   },
   "source": [
    "* Syntax: `(value_1,value_2,value_3)`\n",
    "* Type: `(type_1,type_2,type_3)`"
   ]
  },
  {
   "cell_type": "code",
   "execution_count": 13,
   "id": "35d698a5",
   "metadata": {
    "cell_style": "split"
   },
   "outputs": [],
   "source": [
    "let mut tuple = (1,1.1);\n",
    "\n",
    "let another = (\"abc\",\"def\",\"ghi\");\n",
    "\n",
    "let yet_another: (u8,u32) = (255,4_000_000_000);"
   ]
  },
  {
   "cell_type": "markdown",
   "id": "408d463d",
   "metadata": {
    "slideshow": {
     "slide_type": "fragment"
    }
   },
   "source": [
    " "
   ]
  },
  {
   "cell_type": "markdown",
   "id": "0eb6844c",
   "metadata": {
    "cell_style": "split",
    "slideshow": {
     "slide_type": "-"
    }
   },
   "source": [
    "<div align=\"right\">\n",
    "Accessing elements via index (0 based):\n",
    "</div>"
   ]
  },
  {
   "cell_type": "code",
   "execution_count": 15,
   "id": "851a2a02",
   "metadata": {
    "cell_style": "split"
   },
   "outputs": [
    {
     "name": "stdout",
     "output_type": "stream",
     "text": [
      "(1, 1.1)\n",
      "(2, 1.1)\n",
      "Tuple is (2, 1.1)\n"
     ]
    }
   ],
   "source": [
    "println!(\"({}, {})\",tuple.0,tuple.1);\n",
    "tuple.0 = 2;\n",
    "println!(\"({}, {})\",tuple.0,tuple.1);\n",
    "println!(\"Tuple is {:?}\", tuple);"
   ]
  },
  {
   "cell_type": "markdown",
   "id": "81320fe1",
   "metadata": {
    "cell_style": "split",
    "slideshow": {
     "slide_type": "-"
    }
   },
   "source": [
    "<div align=\"right\">\n",
    "Accessing via matching:\n",
    "</div>"
   ]
  },
  {
   "cell_type": "code",
   "execution_count": 16,
   "id": "cc8423d8",
   "metadata": {
    "cell_style": "split"
   },
   "outputs": [
    {
     "name": "stdout",
     "output_type": "stream",
     "text": [
      "2,1.1\n"
     ]
    }
   ],
   "source": [
    "let (integer,float) = tuple;\n",
    "println!(\"{},{}\",integer,float);"
   ]
  },
  {
   "cell_type": "markdown",
   "id": "580efe3a",
   "metadata": {},
   "source": [
    "### Read chapter 6 from the book!"
   ]
  },
  {
   "cell_type": "markdown",
   "id": "831df210",
   "metadata": {
    "slideshow": {
     "slide_type": "slide"
    }
   },
   "source": [
    "<br><br>\n",
    "\n",
    "<div align=\"center\">\n",
    "    <h1>Next 2 lectures: things will get interesting </h1>\n",
    "</div>\n",
    "\n",
    "<br><br>\n",
    "\n",
    "<div align=\"center\">\n",
    "    <h1>Memory management in general and in Rust and Rust semantics about memory ownership and borrowing </h1>\n",
    "</div>"
   ]
  },
  {
   "cell_type": "code",
   "execution_count": null,
   "id": "5a229393",
   "metadata": {},
   "outputs": [],
   "source": []
  }
 ],
 "metadata": {
  "celltoolbar": "Slideshow",
  "kernelspec": {
   "display_name": "Rust",
   "language": "rust",
   "name": "rust"
  },
  "language_info": {
   "codemirror_mode": "rust",
   "file_extension": ".rs",
   "mimetype": "text/rust",
   "name": "Rust",
   "pygment_lexer": "rust",
   "version": ""
  },
  "rise": {
   "theme": "beige",
   "transition": "fade"
  }
 },
 "nbformat": 4,
 "nbformat_minor": 5
}
