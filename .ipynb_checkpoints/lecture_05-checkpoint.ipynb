{
 "cells": [
  {
   "cell_type": "markdown",
   "id": "13d959bd",
   "metadata": {
    "slideshow": {
     "slide_type": "slide"
    }
   },
   "source": [
    "<div align=\"center\">\n",
    "    <h1>DS-210: Programming for Data Science</h1>\n",
    "    <h1>Lecture 5</h1>\n",
    "</div>\n",
    "\n",
    "\n",
    "# Rust: Compiling. Basic types and variables. Project manager (`cargo`). Flow Control\n"
   ]
  },
  {
   "cell_type": "markdown",
   "id": "c225ca97",
   "metadata": {},
   "source": [
    "## Source of Truth\n",
    "* https://doc.rust-lang.org/stable/book/"
   ]
  },
  {
   "cell_type": "markdown",
   "id": "f35fc785",
   "metadata": {
    "cell_style": "split",
    "slideshow": {
     "slide_type": "fragment"
    }
   },
   "source": [
    "**Simplest way to compile:**\n",
    "  * put the content in file `hello.rs`\n",
    "  * command line:\n",
    "    - navigate to this folder\n",
    "    - `rustc hello.rs`\n",
    "    - run `./hello` or `hello.exe`"
   ]
  },
  {
   "cell_type": "markdown",
   "id": "152afb70",
   "metadata": {},
   "source": [
    "**How to apporach learning a new programming language:**\n",
    "  - What types of variables/data types are there?\n",
    "       - Integer, floats, boolean, ... --> different types\n",
    "  - What is the syntax for functions?\n",
    "  - How do you build and run the code?\n",
    "  - What is the syntax for control flow (if statements/loops/etc)\n",
    "  - How do I organize my code in this language? (i.e. compound data types, structs, methods, etc)\n",
    "       - array, structures, ...\n",
    "  - What are the specific features of this language to keep in mind?\n",
    "  - And others\n",
    "    - I/O? : read and print from the terminal?\n",
    "    - External libraries?\n",
    "    - .."
   ]
  },
  {
   "cell_type": "markdown",
   "id": "c4da92f4",
   "metadata": {
    "slideshow": {
     "slide_type": "slide"
    }
   },
   "source": [
    "## Variable definitions"
   ]
  },
  {
   "cell_type": "markdown",
   "id": "4f94be64",
   "metadata": {
    "cell_style": "split"
   },
   "source": [
    "* By default immutable!\n",
    "    -  once created variable, I CAN'T change later on"
   ]
  },
  {
   "cell_type": "code",
   "execution_count": 3,
   "id": "d92dcd20",
   "metadata": {
    "cell_style": "split",
    "tags": [],
    "vscode": {
     "languageId": "shellscript"
    }
   },
   "outputs": [
    {
     "ename": "Error",
     "evalue": "cannot assign twice to immutable variable `x`",
     "output_type": "error",
     "traceback": [
      "\u001b[31m[E0384] Error:\u001b[0m cannot assign twice to immutable variable `x`",
      "   \u001b[38;5;246m╭\u001b[0m\u001b[38;5;246m─\u001b[0m\u001b[38;5;246m[\u001b[0mcommand_3:1:1\u001b[38;5;246m]\u001b[0m",
      "   \u001b[38;5;246m│\u001b[0m",
      " \u001b[38;5;246m2 │\u001b[0m \u001b[38;5;249ml\u001b[0m\u001b[38;5;249me\u001b[0m\u001b[38;5;249mt\u001b[0m\u001b[38;5;249m \u001b[0m\u001b[38;5;54mx\u001b[0m\u001b[38;5;249m \u001b[0m\u001b[38;5;249m=\u001b[0m\u001b[38;5;249m \u001b[0m\u001b[38;5;249m3\u001b[0m\u001b[38;5;249m;\u001b[0m",
      " \u001b[38;5;246m  ·\u001b[0m     \u001b[38;5;54m┬\u001b[0m  ",
      " \u001b[38;5;246m  ·\u001b[0m     \u001b[38;5;54m╰\u001b[0m\u001b[38;5;54m─\u001b[0m\u001b[38;5;54m─\u001b[0m first assignment to `x`",
      " \u001b[38;5;246m  ·\u001b[0m     \u001b[38;5;68m│\u001b[0m  ",
      " \u001b[38;5;246m  ·\u001b[0m     \u001b[38;5;68m╰\u001b[0m\u001b[38;5;68m─\u001b[0m\u001b[38;5;68m─\u001b[0m help: consider making this binding mutable: `mut x`",
      " \u001b[38;5;246m3 │\u001b[0m \u001b[38;5;100mx\u001b[0m\u001b[38;5;100m \u001b[0m\u001b[38;5;100m=\u001b[0m\u001b[38;5;100m \u001b[0m\u001b[38;5;100mx\u001b[0m\u001b[38;5;100m \u001b[0m\u001b[38;5;100m+\u001b[0m\u001b[38;5;100m \u001b[0m\u001b[38;5;100m1\u001b[0m\u001b[38;5;249m;\u001b[0m\u001b[38;5;249m \u001b[0m\u001b[38;5;249m/\u001b[0m\u001b[38;5;249m/\u001b[0m\u001b[38;5;249m \u001b[0m\u001b[38;5;249m<\u001b[0m\u001b[38;5;249m=\u001b[0m\u001b[38;5;249m=\u001b[0m\u001b[38;5;249m \u001b[0m\u001b[38;5;249me\u001b[0m\u001b[38;5;249mr\u001b[0m\u001b[38;5;249mr\u001b[0m\u001b[38;5;249mo\u001b[0m\u001b[38;5;249mr\u001b[0m\u001b[38;5;249m \u001b[0m\u001b[38;5;249mh\u001b[0m\u001b[38;5;249me\u001b[0m\u001b[38;5;249mr\u001b[0m\u001b[38;5;249me\u001b[0m",
      " \u001b[38;5;246m  ·\u001b[0m \u001b[38;5;100m─\u001b[0m\u001b[38;5;100m─\u001b[0m\u001b[38;5;100m─\u001b[0m\u001b[38;5;100m─\u001b[0m\u001b[38;5;100m┬\u001b[0m\u001b[38;5;100m─\u001b[0m\u001b[38;5;100m─\u001b[0m\u001b[38;5;100m─\u001b[0m\u001b[38;5;100m─\u001b[0m  ",
      " \u001b[38;5;246m  ·\u001b[0m     \u001b[38;5;100m╰\u001b[0m\u001b[38;5;100m─\u001b[0m\u001b[38;5;100m─\u001b[0m\u001b[38;5;100m─\u001b[0m\u001b[38;5;100m─\u001b[0m\u001b[38;5;100m─\u001b[0m\u001b[38;5;100m─\u001b[0m cannot assign twice to immutable variable",
      " \u001b[38;5;246m  ·\u001b[0m ",
      " \u001b[38;5;246m  ·\u001b[0m \u001b[38;5;115mNote\u001b[0m: You can change an existing variable to mutable like: `let mut x = x;`",
      "\u001b[38;5;246m───╯\u001b[0m"
     ]
    }
   ],
   "source": [
    "// let assigns \n",
    "let x = 3;\n",
    "x = x + 1; // <== error here\n",
    "x"
   ]
  },
  {
   "cell_type": "markdown",
   "id": "b232d8af",
   "metadata": {
    "cell_style": "split",
    "slideshow": {
     "slide_type": "fragment"
    }
   },
   "source": [
    "* Use `mut` to make them mutable"
   ]
  },
  {
   "cell_type": "code",
   "execution_count": 7,
   "id": "b16f6f7b",
   "metadata": {
    "cell_style": "split",
    "vscode": {
     "languageId": "shellscript"
    }
   },
   "outputs": [
    {
     "ename": "Error",
     "evalue": "mismatched types",
     "output_type": "error",
     "traceback": [
      "\u001b[31m[E0308] Error:\u001b[0m mismatched types",
      "   \u001b[38;5;246m╭\u001b[0m\u001b[38;5;246m─\u001b[0m\u001b[38;5;246m[\u001b[0mcommand_7:1:1\u001b[38;5;246m]\u001b[0m",
      "   \u001b[38;5;246m│\u001b[0m",
      " \u001b[38;5;246m2 │\u001b[0m \u001b[38;5;249ml\u001b[0m\u001b[38;5;249me\u001b[0m\u001b[38;5;249mt\u001b[0m\u001b[38;5;249m \u001b[0m\u001b[38;5;249mm\u001b[0m\u001b[38;5;249mu\u001b[0m\u001b[38;5;249mt\u001b[0m\u001b[38;5;249m \u001b[0m\u001b[38;5;249mx\u001b[0m\u001b[38;5;249m \u001b[0m\u001b[38;5;249m=\u001b[0m\u001b[38;5;249m \u001b[0m\u001b[38;5;100m3\u001b[0m\u001b[38;5;249m;\u001b[0m",
      " \u001b[38;5;240m  │\u001b[0m             \u001b[38;5;100m┬\u001b[0m  ",
      " \u001b[38;5;240m  │\u001b[0m             \u001b[38;5;100m╰\u001b[0m\u001b[38;5;100m─\u001b[0m\u001b[38;5;100m─\u001b[0m expected due to this value",
      " \u001b[38;5;240m  │\u001b[0m ",
      " \u001b[38;5;246m4 │\u001b[0m \u001b[38;5;249mx\u001b[0m\u001b[38;5;249m \u001b[0m\u001b[38;5;249m=\u001b[0m\u001b[38;5;249m \u001b[0m\u001b[38;5;54m9\u001b[0m\u001b[38;5;54m.\u001b[0m\u001b[38;5;54m5\u001b[0m\u001b[38;5;249m;\u001b[0m",
      " \u001b[38;5;240m  │\u001b[0m     \u001b[38;5;54m─\u001b[0m\u001b[38;5;54m┬\u001b[0m\u001b[38;5;54m─\u001b[0m  ",
      " \u001b[38;5;240m  │\u001b[0m      \u001b[38;5;54m╰\u001b[0m\u001b[38;5;54m─\u001b[0m\u001b[38;5;54m─\u001b[0m\u001b[38;5;54m─\u001b[0m expected integer, found floating-point number",
      "\u001b[38;5;246m───╯\u001b[0m"
     ]
    }
   ],
   "source": [
    "// mutable variable\n",
    "let mut x = 3;\n",
    "x = x + 1;\n",
    "x = 9.5;\n",
    "x"
   ]
  },
  {
   "cell_type": "raw",
   "id": "29d60e97",
   "metadata": {},
   "source": [
    "// mutable variable\n",
    "let mut = 3;\n",
    "x = x + 1;\n",
    "x = 9;\n",
    "x"
   ]
  },
  {
   "cell_type": "markdown",
   "id": "82e26245",
   "metadata": {
    "cell_style": "split",
    "slideshow": {
     "slide_type": "fragment"
    }
   },
   "source": [
    "* Variable shadowing: new variable with the same name"
   ]
  },
  {
   "cell_type": "code",
   "execution_count": 8,
   "id": "7f169e56",
   "metadata": {
    "cell_style": "split",
    "vscode": {
     "languageId": "shellscript"
    }
   },
   "outputs": [
    {
     "name": "stdout",
     "output_type": "stream",
     "text": [
      "solution = 6\n",
      "solution = This is a string\n"
     ]
    }
   ],
   "source": [
    "let solution = \"4\";\n",
    "let solution : i32 = solution.parse()\n",
    "                     .expect(\"Not a number!\");\n",
    "let solution = solution * (solution - 1) / 2;\n",
    "println!(\"solution = {}\",solution);\n",
    "let solution = \"This is a string\";\n",
    "println!(\"solution = {}\", solution);"
   ]
  },
  {
   "cell_type": "markdown",
   "id": "a46c2457",
   "metadata": {
    "slideshow": {
     "slide_type": "slide"
    }
   },
   "source": [
    "## Basic types: integers and floats\n",
    "\n",
    "* unsigned integers: `u8`, `u16`, `u32`, `u64`, `u128`, `usize` (architecture specific size)\n",
    "   - from $0$ to $2^n-1$\n",
    "* signed integers: `i8`, `i16`, `i32` (default), `i64`, `i128`, `isize` (architecture specific size)\n",
    "   - from $-2^{n-1}$ to $2^{n-1}-1$\n",
    "\n",
    "(if you need to convert, use the `as` operator)\n",
    "\n",
    "| Number literals |\tExample |\n",
    "| :-: | :-:|\n",
    "| Decimal | 98_222 |\n",
    "| Hex | 0xff |\n",
    "| Octal | 0o77 |\n",
    "| Binary | 0b1111_0000 |\n",
    "| Byte (u8 only) | b'A' |"
   ]
  },
  {
   "cell_type": "code",
   "execution_count": 9,
   "id": "c60ddbec",
   "metadata": {
    "vscode": {
     "languageId": "shellscript"
    }
   },
   "outputs": [
    {
     "name": "stdout",
     "output_type": "stream",
     "text": [
      "255 255 255 255\n"
     ]
    }
   ],
   "source": [
    "let s1 = 2_55_i32;\n",
    "let s2 = 0xf_f;\n",
    "let s3 = 0o3_77;\n",
    "let s4 = 0b1111_1111;\n",
    "println!(\"{} {} {} {}\", s1, s2, s3, s4);"
   ]
  },
  {
   "cell_type": "code",
   "execution_count": 10,
   "id": "d5d7945e",
   "metadata": {
    "vscode": {
     "languageId": "shellscript"
    }
   },
   "outputs": [
    {
     "name": "stdout",
     "output_type": "stream",
     "text": [
      "U8 min is 0 max is 255\n",
      "I8 min is -128 max is 127\n",
      "U16 min is 0 max is 65535\n",
      "I16 min is -32768 max is 32767\n",
      "U32 min is 0 max is 4294967295\n",
      "I32 min is -2147483648 max is 2147483647\n",
      "U64 min is 0 max is 18446744073709551615\n",
      "I64 min is -9223372036854775808 max is 9223372036854775807\n",
      "U128 min is 0 max is 340282366920938463463374607431768211455\n",
      "I128 min is -170141183460469231731687303715884105728 max is 170141183460469231731687303715884105727\n",
      "USIZE min is 0 max is 18446744073709551615\n",
      "ISIZE min is -9223372036854775808 max is 9223372036854775807\n"
     ]
    }
   ],
   "source": [
    "println!(\"U8 min is {} max is {}\", u8::MIN, u8::MAX);\n",
    "println!(\"I8 min is {} max is {}\", i8::MIN, i8::MAX);\n",
    "println!(\"U16 min is {} max is {}\", u16::MIN, u16::MAX);\n",
    "println!(\"I16 min is {} max is {}\", i16::MIN, i16::MAX);\n",
    "println!(\"U32 min is {} max is {}\", u32::MIN, u32::MAX);\n",
    "println!(\"I32 min is {} max is {}\", i32::MIN, i32::MAX);\n",
    "println!(\"U64 min is {} max is {}\", u64::MIN, u64::MAX);\n",
    "println!(\"I64 min is {} max is {}\", i64::MIN, i64::MAX);\n",
    "println!(\"U128 min is {} max is {}\", u128::MIN, u128::MAX);\n",
    "println!(\"I128 min is {} max is {}\", i128::MIN, i128::MAX);\n",
    "println!(\"USIZE min is {} max is {}\", usize::MIN, usize::MAX);\n",
    "println!(\"ISIZE min is {} max is {}\", isize::MIN, isize::MAX);"
   ]
  },
  {
   "cell_type": "code",
   "execution_count": 11,
   "id": "fc44b919",
   "metadata": {
    "slideshow": {
     "slide_type": "fragment"
    },
    "vscode": {
     "languageId": "shellscript"
    }
   },
   "outputs": [
    {
     "name": "stdout",
     "output_type": "stream",
     "text": [
      "-221\n"
     ]
    }
   ],
   "source": [
    "let x : i16 = 13;\n",
    "let y : i32 = -17;\n",
    "// won't work without the conversion\n",
    "println!(\"{}\", (x as i32)* y);"
   ]
  },
  {
   "cell_type": "markdown",
   "id": "6da5716e",
   "metadata": {
    "slideshow": {
     "slide_type": "fragment"
    }
   },
   "source": [
    "* floats: `f32` and `f64` (default)\n",
    "* There is talk about adding f128 to the language but it is not as useful as u128/i128."
   ]
  },
  {
   "cell_type": "code",
   "execution_count": 12,
   "id": "5def4dbc",
   "metadata": {
    "vscode": {
     "languageId": "shellscript"
    }
   },
   "outputs": [
    {
     "data": {
      "text/plain": [
       "5.0"
      ]
     },
     "execution_count": 12,
     "metadata": {},
     "output_type": "execute_result"
    }
   ],
   "source": [
    "let x:f32 = 4.0;\n",
    "// let x:f32 = 4; // Will not work.  It will not autoconvert for you.\n",
    "let z = 1.25; // default float type: f64\n",
    "// won't work without the conversion\n",
    "(x as f64) * z"
   ]
  },
  {
   "cell_type": "code",
   "execution_count": 6,
   "id": "44219c54",
   "metadata": {
    "vscode": {
     "languageId": "shellscript"
    }
   },
   "outputs": [
    {
     "name": "stdout",
     "output_type": "stream",
     "text": [
      "F32 min is -340282350000000000000000000000000000000 max is 340282350000000000000000000000000000000\n",
      "F64 min is -179769313486231570000000000000000000000000000000000000000000000000000000000000000000000000000000000000000000000000000000000000000000000000000000000000000000000000000000000000000000000000000000000000000000000000000000000000000000000000000000000000000000000000000000000000000000000000000000000000000000000000000 max is 179769313486231570000000000000000000000000000000000000000000000000000000000000000000000000000000000000000000000000000000000000000000000000000000000000000000000000000000000000000000000000000000000000000000000000000000000000000000000000000000000000000000000000000000000000000000000000000000000000000000000000000\n"
     ]
    }
   ],
   "source": [
    "println!(\"F32 min is {} max is {}\", f32::MIN, f32::MAX);\n",
    "println!(\"F64 min is {} max is {}\", f64::MIN, f64::MAX);\n"
   ]
  },
  {
   "cell_type": "markdown",
   "id": "57c03985",
   "metadata": {
    "slideshow": {
     "slide_type": "subslide"
    }
   },
   "source": [
    "## Basic types: Booleans, characters, and strings\n",
    "\n",
    "* `bool` uses one byte of memory"
   ]
  },
  {
   "cell_type": "code",
   "execution_count": 15,
   "id": "56e06278",
   "metadata": {
    "vscode": {
     "languageId": "shellscript"
    }
   },
   "outputs": [
    {
     "name": "stdout",
     "output_type": "stream",
     "text": [
      "false\n",
      "true\n",
      "false\n",
      "true\n",
      "true\n"
     ]
    }
   ],
   "source": [
    "let x = true;\n",
    "let y: bool = false;\n",
    "\n",
    "// x and (not y)\n",
    "println!(\"{}\", x & y);\n",
    "println!(\"{}\", x | y);\n",
    "println!(\"{}\", x && y);\n",
    "println!(\"{}\", x || y);\n",
    "println!(\"{}\", !y);\n"
   ]
  },
  {
   "cell_type": "code",
   "execution_count": 16,
   "id": "dcb86efb",
   "metadata": {
    "vscode": {
     "languageId": "shellscript"
    }
   },
   "outputs": [
    {
     "name": "stdout",
     "output_type": "stream",
     "text": [
      "2\n",
      "15\n",
      "-8\n"
     ]
    }
   ],
   "source": [
    "let x = 10;\n",
    "let y = 7;\n",
    "println!(\"{}\", x & y);\n",
    "println!(\"{}\", x | y);\n",
    "// println!(\"{}\", x && y);\n",
    "// println!(\"{}\", x || y);\n",
    "println!(\"{}\", !y);\n",
    "\n"
   ]
  },
  {
   "cell_type": "markdown",
   "id": "ca8d6841",
   "metadata": {
    "slideshow": {
     "slide_type": "fragment"
    }
   },
   "source": [
    "* `char` defined via single quote, uses four bytes of memory (Unicode scalar value)\n",
    "* For a complete list of UTF-8 characters check https://www.fileformat.info/info/charset/UTF-8/list.htm"
   ]
  },
  {
   "cell_type": "code",
   "execution_count": 17,
   "id": "d1d87330",
   "metadata": {
    "vscode": {
     "languageId": "shellscript"
    }
   },
   "outputs": [
    {
     "name": "stdout",
     "output_type": "stream",
     "text": [
      "a 🚦 🦕\n"
     ]
    }
   ],
   "source": [
    "let x: char = 'a';\n",
    "let y = '🚦';\n",
    "let z = '🦕';\n",
    "\n",
    "println!(\"{} {} {}\", x, y, z);"
   ]
  },
  {
   "cell_type": "markdown",
   "id": "1d692eb8",
   "metadata": {
    "slideshow": {
     "slide_type": "fragment"
    }
   },
   "source": [
    "* string slice defined via double quotes (not so basic actually!)"
   ]
  },
  {
   "cell_type": "code",
   "execution_count": 18,
   "id": "7fc199c6",
   "metadata": {
    "vscode": {
     "languageId": "shellscript"
    }
   },
   "outputs": [
    {
     "name": "stdout",
     "output_type": "stream",
     "text": [
      "Hello! How are you, 🦕? Καλημέρα από την Βοστώνη και την DS210 Does this work? Does this work?\n",
      "l\n",
      "η\n"
     ]
    }
   ],
   "source": [
    "fn testme() {\n",
    "    let s1 = \"Hello! How are you, 🦕?\";\n",
    "    let s2 : &str = \"Καλημέρα από την Βοστώνη και την DS210\";\n",
    "    // This doesn't work.  You can't do String = &str but you can do the opposite\n",
    "    // let s3: String = \"Does this work?\";\n",
    "    let s3: String = String::from(\"Does this work?\");\n",
    "    let s4: &str = &s3;\n",
    "    println!(\"{} {} {} {}\", s1, s2, s3, s4);\n",
    "    // println!(\"{}\", s1[3]);\n",
    "    // println!(\"{}\", s2[3]);\n",
    "    println!(\"{}\", s1.chars().nth(3).unwrap());\n",
    "    println!(\"{}\", s2.chars().nth(3).unwrap());\n",
    "}\n",
    "\n",
    "testme();"
   ]
  },
  {
   "cell_type": "markdown",
   "id": "c8a4bd87",
   "metadata": {
    "slideshow": {
     "slide_type": "slide"
    }
   },
   "source": [
    "## Project manager: `cargo`\n",
    "\n",
    "* create a project: `cargo new PROJECT-NAME`\n",
    "* main file will be `PROJECT-NAME/src/main.rs`"
   ]
  },
  {
   "cell_type": "markdown",
   "id": "c994fed9",
   "metadata": {
    "slideshow": {
     "slide_type": "fragment"
    }
   },
   "source": [
    "* to run: `cargo run`\n",
    "* to just build: `cargo build`"
   ]
  },
  {
   "cell_type": "markdown",
   "id": "1bc6836f",
   "metadata": {
    "slideshow": {
     "slide_type": "fragment"
    }
   },
   "source": [
    "Add `--release` to create a \"fully optimized\" version:\n",
    " * longer compilation\n",
    " * faster execution\n",
    " * some runtime checks not included (e.g., integer overflow)\n",
    " * debuging information not included\n",
    " * the executable in a different folder\n",
    " * Demo fibonacci on the terminal"
   ]
  },
  {
   "cell_type": "markdown",
   "id": "f3e61027",
   "metadata": {
    "slideshow": {
     "slide_type": "subslide"
    }
   },
   "source": [
    "## Project manager: `cargo`\n",
    "\n",
    "If you just want to **check** if your current version compiles: `cargo check`\n",
    "  * Much faster for big projects"
   ]
  },
  {
   "cell_type": "markdown",
   "id": "52a36801",
   "metadata": {},
   "source": [
    "## Making rust work with Jupyter notebook (possibly conda as well)\n",
    "\n",
    "cargo install evcxr_jupyter  \n",
    "evcxr_jupyter --install"
   ]
  },
  {
   "cell_type": "markdown",
   "id": "4b5f9ffe",
   "metadata": {
    "slideshow": {
     "slide_type": "slide"
    }
   },
   "source": [
    "## Conditional expressions: `if`\n",
    "\n"
   ]
  },
  {
   "cell_type": "markdown",
   "id": "709d48b6",
   "metadata": {
    "cell_style": "split"
   },
   "source": [
    "Syntax:\n",
    "```rust\n",
    "if condition {\n",
    "    DO-SOMETHING-HERE\n",
    "} else {\n",
    "    DO-SOMETHING-ELSE-HERE\n",
    "}\n",
    "```\n",
    "* `else` part optional\n",
    "* Compared to many C-like languages:\n",
    "  * no parentheses around `condition` needed!\n",
    "  * the braces mandatory"
   ]
  },
  {
   "cell_type": "code",
   "execution_count": 2,
   "id": "b54ac070",
   "metadata": {
    "cell_style": "split",
    "slideshow": {
     "slide_type": "fragment"
    },
    "vscode": {
     "languageId": "shellscript"
    }
   },
   "outputs": [
    {
     "name": "stdout",
     "output_type": "stream",
     "text": [
      "x is not greater than 15\n"
     ]
    }
   ],
   "source": [
    "let x = 7;\n",
    "if x <= 15 {\n",
    "    println!(\"x is not greater than 15\");\n",
    "};"
   ]
  },
  {
   "cell_type": "code",
   "execution_count": null,
   "id": "91bbaac7-3190-4570-82fd-cae03bcea93c",
   "metadata": {},
   "outputs": [],
   "source": [
    "let x = 7;\n",
    "x = 16\n",
    "if x <= 15 {\n",
    "    println!(\"x is not greater than 15\");\n",
    "};\n",
    "\n",
    "// wrong because x is not mutable"
   ]
  },
  {
   "cell_type": "code",
   "execution_count": 3,
   "id": "1d25c25f",
   "metadata": {
    "cell_style": "split",
    "slideshow": {
     "slide_type": "fragment"
    },
    "vscode": {
     "languageId": "shellscript"
    }
   },
   "outputs": [
    {
     "name": "stdout",
     "output_type": "stream",
     "text": [
      "x is greater than 5\n"
     ]
    }
   ],
   "source": [
    "let threshold = 5;\n",
    "if x <= threshold {\n",
    "    println!(\"x is at most {}\",threshold);\n",
    "} else {\n",
    "    println!(\"x is greater than {}\", threshold);\n",
    "};"
   ]
  },
  {
   "cell_type": "markdown",
   "id": "afb9b861",
   "metadata": {
    "slideshow": {
     "slide_type": "subslide"
    }
   },
   "source": [
    "## Using conditional expressions as values"
   ]
  },
  {
   "cell_type": "markdown",
   "id": "b6d3611d",
   "metadata": {
    "cell_style": "split"
   },
   "source": [
    "Python:\n",
    "```python\n",
    "100 if (x == 7) else 200 \n",
    "```\n",
    "\n",
    "C++:\n",
    "```c++\n",
    "(x == 7) ? 100 : 200\n",
    "```\n",
    "\n",
    "Rust:\n",
    "```rust\n",
    "if x == 7 {100} else {200}\n",
    "```"
   ]
  },
  {
   "cell_type": "code",
   "execution_count": 6,
   "id": "ab874463",
   "metadata": {
    "cell_style": "split",
    "slideshow": {
     "slide_type": "fragment"
    },
    "vscode": {
     "languageId": "shellscript"
    }
   },
   "outputs": [
    {
     "name": "stdout",
     "output_type": "stream",
     "text": [
      "1\n"
     ]
    }
   ],
   "source": [
    "let x = 4;\n",
    "// type of x: integer; default value is 32; \n",
    "let z = if x == 7 {100} else {1};\n",
    "// z with conditional assignment depends on if statement\n",
    "// x is 4, so z will print out 1 (z will go to else case)\n",
    "println!(\"{}\",z);"
   ]
  },
  {
   "cell_type": "code",
   "execution_count": 7,
   "id": "0d97acf9",
   "metadata": {
    "cell_style": "split",
    "slideshow": {
     "slide_type": "fragment"
    },
    "vscode": {
     "languageId": "shellscript"
    }
   },
   "outputs": [
    {
     "ename": "Error",
     "evalue": "`if` and `else` have incompatible types",
     "output_type": "error",
     "traceback": [
      "\u001b[31m[E0308] Error:\u001b[0m `if` and `else` have incompatible types",
      "   \u001b[38;5;246m╭\u001b[0m\u001b[38;5;246m─\u001b[0m\u001b[38;5;246m[\u001b[0mcommand_7:1:1\u001b[38;5;246m]\u001b[0m",
      "   \u001b[38;5;246m│\u001b[0m",
      " \u001b[38;5;246m2 │\u001b[0m \u001b[38;5;249mp\u001b[0m\u001b[38;5;249mr\u001b[0m\u001b[38;5;249mi\u001b[0m\u001b[38;5;249mn\u001b[0m\u001b[38;5;249mt\u001b[0m\u001b[38;5;249ml\u001b[0m\u001b[38;5;249mn\u001b[0m\u001b[38;5;249m!\u001b[0m\u001b[38;5;249m(\u001b[0m\u001b[38;5;249m\"\u001b[0m\u001b[38;5;249m{\u001b[0m\u001b[38;5;249m}\u001b[0m\u001b[38;5;249m\"\u001b[0m\u001b[38;5;249m,\u001b[0m\u001b[38;5;249mi\u001b[0m\u001b[38;5;249mf\u001b[0m\u001b[38;5;249m \u001b[0m\u001b[38;5;249mx\u001b[0m\u001b[38;5;249m \u001b[0m\u001b[38;5;249m=\u001b[0m\u001b[38;5;249m=\u001b[0m\u001b[38;5;249m \u001b[0m\u001b[38;5;249m7\u001b[0m\u001b[38;5;249m \u001b[0m\u001b[38;5;249m{\u001b[0m\u001b[38;5;100m1\u001b[0m\u001b[38;5;100m0\u001b[0m\u001b[38;5;100m0\u001b[0m\u001b[38;5;249m}\u001b[0m\u001b[38;5;249m \u001b[0m\u001b[38;5;249me\u001b[0m\u001b[38;5;249ml\u001b[0m\u001b[38;5;249ms\u001b[0m\u001b[38;5;249me\u001b[0m\u001b[38;5;249m \u001b[0m\u001b[38;5;249m{\u001b[0m\u001b[38;5;54m1\u001b[0m\u001b[38;5;54m.\u001b[0m\u001b[38;5;54m2\u001b[0m\u001b[38;5;249m}\u001b[0m\u001b[38;5;249m)\u001b[0m\u001b[38;5;249m;\u001b[0m",
      " \u001b[38;5;240m  │\u001b[0m                          \u001b[38;5;100m─\u001b[0m\u001b[38;5;100m┬\u001b[0m\u001b[38;5;100m─\u001b[0m        \u001b[38;5;54m─\u001b[0m\u001b[38;5;54m┬\u001b[0m\u001b[38;5;54m─\u001b[0m  ",
      " \u001b[38;5;240m  │\u001b[0m                           \u001b[38;5;100m╰\u001b[0m\u001b[38;5;100m─\u001b[0m\u001b[38;5;100m─\u001b[0m\u001b[38;5;100m─\u001b[0m\u001b[38;5;100m─\u001b[0m\u001b[38;5;100m─\u001b[0m\u001b[38;5;100m─\u001b[0m\u001b[38;5;100m─\u001b[0m\u001b[38;5;100m─\u001b[0m\u001b[38;5;100m─\u001b[0m\u001b[38;5;100m─\u001b[0m\u001b[38;5;100m─\u001b[0m\u001b[38;5;100m─\u001b[0m\u001b[38;5;100m─\u001b[0m\u001b[38;5;100m─\u001b[0m expected because of this",
      " \u001b[38;5;240m  │\u001b[0m                                      \u001b[38;5;54m│\u001b[0m   ",
      " \u001b[38;5;240m  │\u001b[0m                                      \u001b[38;5;54m╰\u001b[0m\u001b[38;5;54m─\u001b[0m\u001b[38;5;54m─\u001b[0m\u001b[38;5;54m─\u001b[0m expected integer, found floating-point number",
      "\u001b[38;5;246m───╯\u001b[0m"
     ]
    }
   ],
   "source": [
    "// won't work: same type needed\n",
    "println!(\"{}\",if x == 7 {100} else {1.2});\n",
    "\n",
    "// else is assigning float value; build conditional assignment where \n",
    "// each branch use different types"
   ]
  },
  {
   "cell_type": "code",
   "execution_count": 8,
   "id": "e865f6b0",
   "metadata": {
    "cell_style": "split",
    "slideshow": {
     "slide_type": "fragment"
    },
    "vscode": {
     "languageId": "shellscript"
    }
   },
   "outputs": [
    {
     "name": "stdout",
     "output_type": "stream",
     "text": [
      "17\n"
     ]
    }
   ],
   "source": [
    "// blocks can be more complicated\n",
    "// last expression counts (no semicolon after)\n",
    "// But please don't write this just because you can\n",
    "let z = if x == 4 {\n",
    "    let t = x * x;\n",
    "    t + 1\n",
    "} else {\n",
    "    x + 1\n",
    "};\n",
    "println!(\"{}\",z);"
   ]
  },
  {
   "cell_type": "code",
   "execution_count": 9,
   "id": "8fd6c1a8",
   "metadata": {
    "cell_style": "split",
    "vscode": {
     "languageId": "shellscript"
    }
   },
   "outputs": [
    {
     "name": "stdout",
     "output_type": "stream",
     "text": [
      "17\n"
     ]
    },
    {
     "data": {
      "text/plain": [
       "()"
      ]
     },
     "execution_count": 9,
     "metadata": {},
     "output_type": "execute_result"
    }
   ],
   "source": [
    "// Write this instead\n",
    "let x = 4;\n",
    "let z;\n",
    "if x == 4 { z = x*x+1 } else { z = x+1};\n",
    "println!(\"{}\", z)"
   ]
  },
  {
   "cell_type": "code",
   "execution_count": null,
   "id": "aa48d0bb-1820-40cd-a517-9c8362239b65",
   "metadata": {},
   "outputs": [],
   "source": [
    "// try to keep things as simple as possible\n",
    "// these two are equal"
   ]
  },
  {
   "cell_type": "markdown",
   "id": "edf10a11",
   "metadata": {},
   "source": [
    "### A winner of the most obscure code competition (https://www.ioccc.org/)\n",
    "```C\n",
    "#include <stdio.h> \n",
    "\n",
    "#define N(a)       \"%\"#a\"$hhn\"\n",
    "#define O(a,b)     \"%10$\"#a\"d\"N(b)\n",
    "#define U          \"%10$.*37$d\"\n",
    "#define G(a)       \"%\"#a\"$s\"\n",
    "#define H(a,b)     G(a)G(b)\n",
    "#define T(a)       a a \n",
    "#define s(a)       T(a)T(a)\n",
    "#define A(a)       s(a)T(a)a\n",
    "#define n(a)       A(a)a\n",
    "#define D(a)       n(a)A(a)\n",
    "#define C(a)       D(a)a\n",
    "#define R          C(C(N(12)G(12)))\n",
    "#define o(a,b,c)   C(H(a,a))D(G(a))C(H(b,b)G(b))n(G(b))O(32,c)R\n",
    "#define SS         O(78,55)R \"\\n\\033[2J\\n%26$s\";\n",
    "#define E(a,b,c,d) H(a,b)G(c)O(253,11)R G(11)O(255,11)R H(11,d)N(d)O(253,35)R\n",
    "#define S(a,b)     O(254,11)H(a,b)N(68)R G(68)O(255,68)N(12)H(12,68)G(67)N(67)\n",
    "\n",
    "char* fmt = O(10,39)N(40)N(41)N(42)N(43)N(66)N(69)N(24)O(22,65)O(5,70)O(8,44)N(\n",
    "            45)N(46)N    (47)N(48)N(    49)N( 50)N(     51)N(52)N(53    )O( 28,\n",
    "            54)O(5,        55) O(2,    56)O(3,57)O(      4,58 )O(13,    73)O(4,\n",
    "            71 )N(   72)O   (20,59    )N(60)N(61)N(       62)N (63)N    (64)R R\n",
    "            E(1,2,   3,13   )E(4,    5,6,13)E(7,8,9        ,13)E(1,4    ,7,13)E\n",
    "            (2,5,8,        13)E(    3,6,9,13)E(1,5,         9,13)E(3    ,5,7,13\n",
    "            )E(14,15,    16,23)    E(17,18,19,23)E(          20, 21,    22,23)E\n",
    "            (14,17,20,23)E(15,    18,21,23)E(16,19,    22     ,23)E(    14, 18,\n",
    "            22,23)E(16,18,20,    23)R U O(255 ,38)R    G (     38)O(    255,36)\n",
    "            R H(13,23)O(255,    11)R H(11,36) O(254    ,36)     R G(    36 ) O(\n",
    "            255,36)R S(1,14    )S(2,15)S(3, 16)S(4,    17 )S     (5,    18)S(6,\n",
    "            19)S(7,20)S(8,    21)S(9    ,22)H(13,23    )H(36,     67    )N(11)R\n",
    "            G(11)\"\"O(255,    25 )R        s(C(G(11)    ))n (G(          11) )G(\n",
    "            11)N(54)R C(    \"aa\")   s(A(   G(25)))T    (G(25))N         (69)R o\n",
    "            (14,1,26)o(    15, 2,   27)o   (16,3,28    )o( 17,4,        29)o(18\n",
    "            ,5,30)o(19    ,6,31)o(        20,7,32)o    (21,8,33)o       (22 ,9,\n",
    "            34)n(C(U)    )N( 68)R H(    36,13)G(23)    N(11)R C(D(      G(11)))\n",
    "            D(G(11))G(68)N(68)R G(68)O(49,35)R H(13,23)G(67)N(11)R C(H(11,11)G(\n",
    "            11))A(G(11))C(H(36,36)G(36))s(G(36))O(32,58)R C(D(G(36)))A(G(36))SS\n",
    "\n",
    "#define arg d+6,d+8,d+10,d+12,d+14,d+16,d+18,d+20,d+22,0,d+46,d+52,d+48,d+24,d\\\n",
    "            +26,d+28,d+30,d+32,d+34,d+36,d+38,d+40,d+50,(scanf(d+126,d+4),d+(6\\\n",
    "            -2)+18*(1-d[2]%2)+d[4]*2),d,d+66,d+68,d+70, d+78,d+80,d+82,d+90,d+\\\n",
    "            92,d+94,d+97,d+54,d[2],d+2,d+71,d+77,d+83,d+89,d+95,d+72,d+73,d+74\\\n",
    "            ,d+75,d+76,d+84,d+85,d+86,d+87,d+88,d+100,d+101,d+96,d+102,d+99,d+\\\n",
    "            67,d+69,d+79,d+81,d+91,d+93,d+98,d+103,d+58,d+60,d+98,d+126,d+127,\\\n",
    "            d+128,d+129\n",
    "\n",
    "char d[538] = {1,0,10,0,10};\n",
    "\n",
    "int main() {\n",
    "    while(*d) printf(fmt, arg);\n",
    "}\n",
    "```"
   ]
  },
  {
   "cell_type": "markdown",
   "id": "27290a82",
   "metadata": {
    "slideshow": {
     "slide_type": "slide"
    }
   },
   "source": [
    "## Functions\n",
    "Syntax:\n",
    "```rust\n",
    "fn function_name(argname_1:type_1,argname_2:type_2) -> type_ret {\n",
    "    DO-SOMETHING-HERE-AND-RETURN-A-VALUE\n",
    "}\n",
    "```"
   ]
  },
  {
   "cell_type": "code",
   "execution_count": 11,
   "id": "f91a7aa3",
   "metadata": {
    "slideshow": {
     "slide_type": "fragment"
    },
    "vscode": {
     "languageId": "shellscript"
    }
   },
   "outputs": [
    {
     "data": {
      "text/plain": [
       "200.0"
      ]
     },
     "execution_count": 11,
     "metadata": {},
     "output_type": "execute_result"
    }
   ],
   "source": [
    "fn multiply(x:i32, y:i32) -> f32 {\n",
    "    // note: no need to write \"return x * y\"\n",
    "    return (x * y) as f32;\n",
    "}\n",
    "\n",
    "multiply(10,20)"
   ]
  },
  {
   "cell_type": "code",
   "execution_count": null,
   "id": "97c5467c-6019-474c-9636-3b0cbd90b6e9",
   "metadata": {},
   "outputs": [],
   "source": [
    "return (x * y) as f32;\n",
    "// or\n",
    "(x * y) as f32"
   ]
  },
  {
   "cell_type": "code",
   "execution_count": 12,
   "id": "a7a964c6",
   "metadata": {
    "slideshow": {
     "slide_type": "fragment"
    },
    "vscode": {
     "languageId": "shellscript"
    }
   },
   "outputs": [
    {
     "data": {
      "text/plain": [
       "false"
      ]
     },
     "execution_count": 12,
     "metadata": {},
     "output_type": "execute_result"
    }
   ],
   "source": [
    "// But if you add a return then you need a semicolon unless it is the last statement in the function\n",
    "// Please use returns and add semicolons everywhere.  It's easier to read.\n",
    "fn and(p:bool, q:bool, r:bool) -> bool {\n",
    "    if !p {\n",
    "        return false;\n",
    "    }\n",
    "    if !q {\n",
    "        return false;\n",
    "    }\n",
    "    r // return r without the semicolon also works here\n",
    "}\n",
    "and(true,false,true)\n"
   ]
  },
  {
   "cell_type": "code",
   "execution_count": null,
   "id": "371c7bdf-1569-4156-9fec-a104d062170d",
   "metadata": {},
   "outputs": [],
   "source": [
    "// no semicolon -> return \n",
    "// semicolon --> put return r; "
   ]
  },
  {
   "cell_type": "markdown",
   "id": "c05bcc5e",
   "metadata": {
    "slideshow": {
     "slide_type": "subslide"
    }
   },
   "source": [
    "## Functions: returning no value"
   ]
  },
  {
   "cell_type": "markdown",
   "id": "72a945db",
   "metadata": {
    "cell_style": "split",
    "slideshow": {
     "slide_type": "-"
    }
   },
   "source": [
    "**How:** skip the type of returned value part"
   ]
  },
  {
   "cell_type": "code",
   "execution_count": 13,
   "id": "c7110438",
   "metadata": {
    "cell_style": "split",
    "vscode": {
     "languageId": "shellscript"
    }
   },
   "outputs": [
    {
     "name": "stdout",
     "output_type": "stream",
     "text": [
      "Hello, world!\n",
      "Hello, Boston!\n",
      "Hello, MCS B37!\n"
     ]
    }
   ],
   "source": [
    "fn say_hello(who:&str) {\n",
    "    println!(\"Hello, {}!\",who);\n",
    "}\n",
    " \n",
    "say_hello(\"world\");\n",
    "say_hello(\"Boston\");\n",
    "say_hello(\"MCS B37\");"
   ]
  },
  {
   "cell_type": "markdown",
   "id": "f9842412",
   "metadata": {
    "cell_style": "split",
    "slideshow": {
     "slide_type": "fragment"
    }
   },
   "source": [
    "Nothing returned equivalent to the unit type, `()`"
   ]
  },
  {
   "cell_type": "code",
   "execution_count": 14,
   "id": "2514fecf",
   "metadata": {
    "cell_style": "split",
    "vscode": {
     "languageId": "shellscript"
    }
   },
   "outputs": [
    {
     "name": "stdout",
     "output_type": "stream",
     "text": [
      "Good night room\n",
      "Good night moon\n",
      "Good night cow jumping over the moon\n",
      "The function returned ()\n"
     ]
    },
    {
     "data": {
      "text/plain": [
       "()"
      ]
     },
     "execution_count": 14,
     "metadata": {},
     "output_type": "execute_result"
    }
   ],
   "source": [
    "fn say_good_night(who:&str) -> () {\n",
    "    println!(\"Good night {}\",who);\n",
    "}\n",
    "\n",
    "say_good_night(\"room\");\n",
    "say_good_night(\"moon\");\n",
    "let z = say_good_night(\"cow jumping over the moon\");\n",
    "println!(\"The function returned {:?}\", z)"
   ]
  },
  {
   "cell_type": "markdown",
   "id": "337265c7",
   "metadata": {
    "slideshow": {
     "slide_type": "slide"
    }
   },
   "source": [
    "## Loops: `for`\n",
    "Usage: iterate over an iterator, range, or collection"
   ]
  },
  {
   "cell_type": "code",
   "execution_count": 15,
   "id": "4d66b79d",
   "metadata": {
    "cell_style": "split",
    "vscode": {
     "languageId": "shellscript"
    }
   },
   "outputs": [
    {
     "name": "stdout",
     "output_type": "stream",
     "text": [
      "1\n",
      "2\n",
      "3\n",
      "4\n"
     ]
    }
   ],
   "source": [
    "for i in 1..5 {\n",
    "    println!(\"{}\",i);\n",
    "};"
   ]
  },
  {
   "cell_type": "code",
   "execution_count": 16,
   "id": "1c192696",
   "metadata": {
    "cell_style": "split",
    "slideshow": {
     "slide_type": "fragment"
    },
    "vscode": {
     "languageId": "shellscript"
    }
   },
   "outputs": [
    {
     "name": "stdout",
     "output_type": "stream",
     "text": [
      "4\n",
      "3\n",
      "2\n",
      "1\n"
     ]
    }
   ],
   "source": [
    "// reverse order\n",
    "for i in (1..5).rev() {\n",
    "    println!(\"{}\",i)\n",
    "};"
   ]
  },
  {
   "cell_type": "code",
   "execution_count": 17,
   "id": "a6a17213",
   "metadata": {
    "cell_style": "split",
    "slideshow": {
     "slide_type": "fragment"
    },
    "vscode": {
     "languageId": "shellscript"
    }
   },
   "outputs": [
    {
     "name": "stdout",
     "output_type": "stream",
     "text": [
      "1\n",
      "2\n",
      "3\n",
      "4\n",
      "5\n"
     ]
    }
   ],
   "source": [
    "// closed range\n",
    "for i in 1..=5 {\n",
    "    println!(\"{}\",i);\n",
    "};"
   ]
  },
  {
   "cell_type": "code",
   "execution_count": 18,
   "id": "e3c8ad3f",
   "metadata": {
    "cell_style": "split",
    "slideshow": {
     "slide_type": "fragment"
    },
    "vscode": {
     "languageId": "shellscript"
    }
   },
   "outputs": [
    {
     "name": "stdout",
     "output_type": "stream",
     "text": [
      "This is a test\n",
      "1\n",
      "This is a test\n",
      "3\n",
      "And now for the reverse\n",
      "3\n",
      "1\n",
      "But....\n",
      "4\n",
      "2\n"
     ]
    }
   ],
   "source": [
    "// every other element \n",
    "for i in (1..5).step_by(2) {\n",
    "    println!(\"This is a test\");\n",
    "    println!(\"{}\",i);\n",
    "};\n",
    "println!(\"And now for the reverse\");\n",
    "for i in (1..5).step_by(2).rev() {\n",
    "    println!(\"{}\",i)\n",
    "};\n",
    "println!(\"But....\");\n",
    "for i in (1..5).rev().step_by(2) {\n",
    "    println!(\"{}\",i);\n",
    "};\n"
   ]
  },
  {
   "cell_type": "markdown",
   "id": "a2ac9173",
   "metadata": {
    "slideshow": {
     "slide_type": "subslide"
    }
   },
   "source": [
    "## Arrays and `for` over an array\n",
    "\n",
    "* Arrays in Rust are of fixed length (we'll learn about more flexible `Vec` later)\n",
    "* All elements of the same type\n",
    "* You can not add or remove elements from an array (but you can change its value)\n",
    "* Python **does not**  have arrays natively"
   ]
  },
  {
   "cell_type": "code",
   "execution_count": 31,
   "id": "568c52b5",
   "metadata": {
    "cell_style": "split",
    "vscode": {
     "languageId": "shellscript"
    }
   },
   "outputs": [
    {
     "name": "stdout",
     "output_type": "stream",
     "text": [
      "1 13\n"
     ]
    }
   ],
   "source": [
    "// simplest definition\n",
    "// compiler guessing element type to be i32\n",
    "// indexing starts at 0\n",
    "let mut arr = [1,7,2,5,2];\n",
    "arr[1] = 13;\n",
    "println!(\"{} {}\",arr[0],arr[1]);"
   ]
  },
  {
   "cell_type": "code",
   "execution_count": null,
   "id": "ba8b4135-a03a-4cb7-b124-44f76575a5ee",
   "metadata": {},
   "outputs": [],
   "source": [
    "// indexing arr[1]=13 --> change 1st index to 13\n",
    "// mut 없으면 arr[1] = 13 안 먹힘"
   ]
  },
  {
   "cell_type": "code",
   "execution_count": 3,
   "id": "5a82927b-4cd1-4dc4-ab31-775be2e9f10c",
   "metadata": {
    "tags": []
   },
   "outputs": [
    {
     "name": "stdout",
     "output_type": "stream",
     "text": [
      "1 13\n"
     ]
    }
   ],
   "source": [
    "let mut arr = [1,7,2,5,2];\n",
    "arr[1] = 13;\n",
    "println!(\"{} {}\",arr[0],arr[1]);"
   ]
  },
  {
   "cell_type": "code",
   "execution_count": 32,
   "id": "1fa4c7c3",
   "metadata": {
    "cell_style": "split",
    "slideshow": {
     "slide_type": "fragment"
    },
    "vscode": {
     "languageId": "shellscript"
    }
   },
   "outputs": [
    {
     "name": "stdout",
     "output_type": "stream",
     "text": [
      "1\n",
      "2\n",
      "2\n",
      "5\n",
      "13\n"
     ]
    }
   ],
   "source": [
    "arr.sort();\n",
    "// loop over the array\n",
    "for x in arr {\n",
    "    println!(\"{}\",x);\n",
    "};"
   ]
  },
  {
   "cell_type": "code",
   "execution_count": 5,
   "id": "713c1af3-945a-4c9b-83c1-32e1cab4e012",
   "metadata": {
    "tags": []
   },
   "outputs": [
    {
     "name": "stdout",
     "output_type": "stream",
     "text": [
      "1\n",
      "2\n",
      "13\n",
      "2\n",
      "5\n"
     ]
    }
   ],
   "source": [
    "arr.sort();\n",
    "// loop over the array\n",
    "for x in arr {\n",
    "    println!(\"{}\",x);\n",
    "};"
   ]
  },
  {
   "cell_type": "code",
   "execution_count": 7,
   "id": "175e0af0",
   "metadata": {
    "cell_style": "split",
    "slideshow": {
     "slide_type": "fragment"
    },
    "tags": [],
    "vscode": {
     "languageId": "shellscript"
    }
   },
   "outputs": [
    {
     "name": "stdout",
     "output_type": "stream",
     "text": [
      "15 15 15 \n"
     ]
    }
   ],
   "source": [
    "// create array of given length\n",
    "// and fill it with a specific value\n",
    "let arr2 = [15;3];\n",
    "for x in arr2 {\n",
    "    print!(\"{} \",x);\n",
    "}\n",
    "println!();"
   ]
  },
  {
   "cell_type": "code",
   "execution_count": 8,
   "id": "53a8703d",
   "metadata": {
    "cell_style": "split",
    "slideshow": {
     "slide_type": "fragment"
    },
    "tags": [],
    "vscode": {
     "languageId": "shellscript"
    }
   },
   "outputs": [
    {
     "name": "stdout",
     "output_type": "stream",
     "text": [
      "15\n"
     ]
    }
   ],
   "source": [
    "// with type definition included\n",
    "let arr3 : [u8;3] = [15;3]; \n",
    "println!(\"{}\", arr3[2]);"
   ]
  },
  {
   "cell_type": "code",
   "execution_count": 9,
   "id": "256bb751",
   "metadata": {
    "cell_style": "split",
    "slideshow": {
     "slide_type": "fragment"
    },
    "tags": [],
    "vscode": {
     "languageId": "shellscript"
    }
   },
   "outputs": [
    {
     "data": {
      "text/plain": [
       "3"
      ]
     },
     "execution_count": 9,
     "metadata": {},
     "output_type": "execute_result"
    }
   ],
   "source": [
    "// get the length\n",
    "arr3.len()"
   ]
  },
  {
   "cell_type": "code",
   "execution_count": 36,
   "id": "eee90df5",
   "metadata": {
    "vscode": {
     "languageId": "shellscript"
    }
   },
   "outputs": [
    {
     "name": "stdout",
     "output_type": "stream",
     "text": [
      "X is 1\n",
      "X is 2\n",
      "X is 3\n",
      "X is 4\n",
      "X is 6\n",
      "X is 7\n",
      "X is 8\n",
      "X is 9\n",
      "Result is 20\n"
     ]
    }
   ],
   "source": [
    "// loop keyword similar to while (True) in Python\n",
    "// break and continue keywords behave as you would expect\n",
    "let mut x = 1;\n",
    "let result = loop {\n",
    "    if x == 5 {\n",
    "        x = x+1;\n",
    "        continue;\n",
    "    }\n",
    "    println!(\"X is {}\", x);\n",
    "    x = x + 1;\n",
    "    if x==10 {\n",
    "        break x*2;\n",
    "    }\n",
    "};\n",
    "println!(\"Result is {}\", result);"
   ]
  },
  {
   "cell_type": "code",
   "execution_count": 37,
   "id": "53c91a7f",
   "metadata": {
    "vscode": {
     "languageId": "shellscript"
    }
   },
   "outputs": [
    {
     "name": "stdout",
     "output_type": "stream",
     "text": [
      "3!\n",
      "2!\n",
      "1!\n",
      "LIFTOFF!!!\n"
     ]
    }
   ],
   "source": [
    "let mut number = 3;\n",
    "\n",
    "while number != 0 {\n",
    "    println!(\"{number}!\");\n",
    "    number -= 1;\n",
    "}\n",
    "println!(\"LIFTOFF!!!\");\n"
   ]
  },
  {
   "cell_type": "markdown",
   "id": "b7e9ddd5",
   "metadata": {
    "slideshow": {
     "slide_type": "subslide"
    }
   },
   "source": [
    "## Infinite loop: `loop`\n",
    "```rust\n",
    "loop {\n",
    "    // DO SOMETHING HERE\n",
    "}\n",
    "```\n",
    "\n",
    "Need to use `break` to jump out of the loop!"
   ]
  },
  {
   "cell_type": "code",
   "execution_count": 9,
   "id": "d43a52f7",
   "metadata": {
    "cell_style": "split",
    "vscode": {
     "languageId": "shellscript"
    }
   },
   "outputs": [
    {
     "data": {
      "text/plain": [
       "15"
      ]
     },
     "execution_count": 9,
     "metadata": {},
     "output_type": "execute_result"
    }
   ],
   "source": [
    "let mut x = 1;\n",
    "loop {\n",
    "    if (x + 1) * (x + 1) >= 250 {break;}\n",
    "    x += 1;\n",
    "}\n",
    "x"
   ]
  },
  {
   "cell_type": "markdown",
   "id": "deed42a3",
   "metadata": {
    "cell_style": "split",
    "slideshow": {
     "slide_type": "fragment"
    }
   },
   "source": [
    "* `loop` can return a value!\n",
    "* `break` can act like `return`"
   ]
  },
  {
   "cell_type": "code",
   "execution_count": 10,
   "id": "de8354dd",
   "metadata": {
    "cell_style": "split",
    "vscode": {
     "languageId": "shellscript"
    }
   },
   "outputs": [
    {
     "data": {
      "text/plain": [
       "15"
      ]
     },
     "execution_count": 10,
     "metadata": {},
     "output_type": "execute_result"
    }
   ],
   "source": [
    "let mut x = 1;\n",
    "let y = loop {\n",
    "    if x * x >= 250 {break x - 1;}\n",
    "    x += 1;\n",
    "};\n",
    "y"
   ]
  },
  {
   "cell_type": "markdown",
   "id": "44232951",
   "metadata": {
    "slideshow": {
     "slide_type": "slide"
    }
   },
   "source": [
    "## Advanced `break` and `continue`"
   ]
  },
  {
   "cell_type": "markdown",
   "id": "885ce7e1",
   "metadata": {
    "cell_style": "split"
   },
   "source": [
    "* work in all loops\n",
    "* `break`: terminate the execution\n",
    "  * can return a value in `loop`\n",
    "* `continue`: terminate this iteration and jump to the next one\n",
    "  * in `while`, the condition will be checked\n",
    "  * in `for`, there may be no next iteration\n",
    "  * `break` and `continue` can use labels"
   ]
  },
  {
   "cell_type": "code",
   "execution_count": 11,
   "id": "4b1d2cbf",
   "metadata": {
    "cell_style": "split",
    "slideshow": {
     "slide_type": "fragment"
    },
    "vscode": {
     "languageId": "shellscript"
    }
   },
   "outputs": [
    {
     "name": "stdout",
     "output_type": "stream",
     "text": [
      "3\n",
      "6\n",
      "9\n"
     ]
    }
   ],
   "source": [
    "for i in 1..=10 {\n",
    "    if i % 3 != 0 {continue;}\n",
    "    println!(\"{}\",i);\n",
    "};\n",
    "\n",
    "\n"
   ]
  },
  {
   "cell_type": "code",
   "execution_count": 6,
   "id": "749f5d0d",
   "metadata": {
    "cell_style": "split",
    "vscode": {
     "languageId": "shellscript"
    }
   },
   "outputs": [
    {
     "name": "stdout",
     "output_type": "stream",
     "text": [
      "Hi outer loop\n",
      "Hi inner loop\n",
      "Hi outer loop\n",
      "Hi inner loop\n",
      "In the middle\n",
      "X is 3\n",
      "Hi inner loop\n",
      "Hi outer loop\n",
      "Hi inner loop\n",
      "Hi outer loop\n",
      "Hi inner loop\n",
      "In the middle\n",
      "X is 6\n",
      "Hi inner loop\n",
      "Hi outer loop\n",
      "Hi inner loop\n",
      "Hi outer loop\n",
      "Hi inner loop\n",
      "In the middle\n",
      "X is 9\n",
      "Hi inner loop\n",
      "Hi outer loop\n",
      "Hi inner loop\n",
      "Hi outer loop\n",
      "Hi inner loop\n",
      "In the middle\n",
      "Managed to escape! :-) with x 12\n"
     ]
    }
   ],
   "source": [
    "let mut x = 1;\n",
    "'outer_loop: loop {\n",
    "    println!(\"Hi outer loop\");\n",
    "    'inner_loop: loop {\n",
    "        println!(\"Hi inner loop\");\n",
    "        x = x + 1;\n",
    "        if x % 3 != 0 {\n",
    "            continue 'outer_loop;\n",
    "        }\n",
    "        println!(\"In the middle\");\n",
    "        if x >= 10 {\n",
    "            break 'outer_loop;\n",
    "        }\n",
    "        println!(\"X is {}\", x);\n",
    "    }\n",
    "    println!(\"In the end\");\n",
    "};\n",
    "println!(\"Managed to escape! :-) with x {}\", x);"
   ]
  },
  {
   "cell_type": "code",
   "execution_count": 7,
   "id": "0983e67e",
   "metadata": {
    "cell_style": "split",
    "vscode": {
     "languageId": "shellscript"
    }
   },
   "outputs": [
    {
     "name": "stdout",
     "output_type": "stream",
     "text": [
      "Hi outer loop\n",
      "Hi inner loop\n",
      "In the end\n",
      "Hi outer loop\n",
      "Hi inner loop\n",
      "In the middle\n",
      "X is 3\n",
      "Hi inner loop\n",
      "In the end\n",
      "Hi outer loop\n",
      "Hi inner loop\n",
      "In the end\n",
      "Hi outer loop\n",
      "Hi inner loop\n",
      "In the middle\n",
      "X is 6\n",
      "Hi inner loop\n",
      "In the end\n",
      "Hi outer loop\n",
      "Hi inner loop\n",
      "In the end\n",
      "Hi outer loop\n",
      "Hi inner loop\n",
      "In the middle\n",
      "X is 9\n",
      "Hi inner loop\n",
      "In the end\n",
      "Hi outer loop\n",
      "Hi inner loop\n",
      "In the end\n",
      "Hi outer loop\n",
      "Hi inner loop\n",
      "In the middle\n",
      "Managed to escape! :-) with x 12\n"
     ]
    }
   ],
   "source": [
    "let mut x = 1;\n",
    "'outer_loop: loop {\n",
    "    println!(\"Hi outer loop\");\n",
    "    'inner_loop: loop {\n",
    "        println!(\"Hi inner loop\");\n",
    "        x = x + 1;\n",
    "        if x % 3 != 0 {\n",
    "            break 'inner_loop;\n",
    "        }\n",
    "        println!(\"In the middle\");\n",
    "        if x >= 10 {\n",
    "            break 'outer_loop;\n",
    "        }\n",
    "        println!(\"X is {}\", x);\n",
    "    }\n",
    "    println!(\"In the end\");\n",
    "};\n",
    "println!(\"Managed to escape! :-) with x {}\", x);"
   ]
  },
  {
   "cell_type": "code",
   "execution_count": 12,
   "id": "ddd550eb",
   "metadata": {
    "cell_style": "center",
    "slideshow": {
     "slide_type": "fragment"
    },
    "vscode": {
     "languageId": "shellscript"
    }
   },
   "outputs": [
    {
     "name": "stdout",
     "output_type": "stream",
     "text": [
      "1234\n"
     ]
    }
   ],
   "source": [
    "let x = 'outer_loop: loop {\n",
    "    loop { break 'outer_loop 1234;}\n",
    "};\n",
    "println!(\"{}\",x);"
   ]
  },
  {
   "cell_type": "markdown",
   "id": "321dc498",
   "metadata": {},
   "source": [
    "## Read book chapter 1 and sections 3.1-3.5"
   ]
  }
 ],
 "metadata": {
  "celltoolbar": "Slideshow",
  "kernelspec": {
   "display_name": "Rust",
   "language": "rust",
   "name": "rust"
  },
  "language_info": {
   "codemirror_mode": "rust",
   "file_extension": ".rs",
   "mimetype": "text/rust",
   "name": "Rust",
   "pygment_lexer": "rust",
   "version": ""
  },
  "rise": {
   "theme": "beige",
   "transition": "fade"
  }
 },
 "nbformat": 4,
 "nbformat_minor": 5
}
