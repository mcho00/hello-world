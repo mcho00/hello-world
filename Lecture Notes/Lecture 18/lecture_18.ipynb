{
 "cells": [
  {
   "cell_type": "markdown",
   "id": "7d202876",
   "metadata": {
    "slideshow": {
     "slide_type": "slide"
    }
   },
   "source": [
    "<div align=\"center\">\n",
    "    <h1>DS-210: Programming for Data Science</h1>\n",
    "    <h1>Lecture 18</h1>\n",
    "</div>\n",
    "\n",
    "# 1. Binary trees\n",
    "# 2. Binary search trees\n"
   ]
  },
  {
   "attachments": {},
   "cell_type": "markdown",
   "id": "76e35d52",
   "metadata": {},
   "source": [
    "## Final exam information\n",
    "\n",
    "The final will be on *December 17th* from 9-11am"
   ]
  },
  {
   "cell_type": "markdown",
   "id": "c1a41f47",
   "metadata": {},
   "source": [
    "## Binary trees"
   ]
  },
  {
   "cell_type": "markdown",
   "id": "310e8544",
   "metadata": {},
   "source": [
    "## Trees vs Graphs\n",
    "\n",
    "Trees are subset of graphs.\n",
    "Graph(nodes and edges; no explicit start and end point)\n",
    "\n",
    "Trees are a special type of graph with a few key features\n",
    "* Hierarchical structure with a root node\n",
    "* Acyclic: only able to go down in one direction; \n",
    "* Parent and child nodes with well-defined ancestry (every node besides the root has only one parent) (exception: leaf node - no child)\n",
    "* Only n-1 edges for n nodes\n",
    "* May constrain the number of children (in a binary tree each parent can have at most two children)\n",
    "* every node can have maximum of two children\n",
    "* Base type 2 of structure\n",
    "\n",
    "## Why are trees useful?\n",
    "\n",
    "* Anything with a hierarchical data structure (File systems, family trees, HTML DOM structure)\n",
    "* Data compression (huffman coding builds a binary tree for the frequency of characters to perform compression)\n",
    "* Compilers use syntax trees to represent the structure of a program\n",
    "* Prefix trees (Tries) are used in spell checking, dictionary search, internet routing\n",
    "* Databases use tree data structures for their indexing to efficiently search and retrieve data\n",
    "* Merkle trees allow for efficient verification of large data structures, useful in P2P settings (Bitcoin, BitTorrent, etc)\n",
    "* Spanning trees are important for optimizing routing on networks\n",
    "* Decision trees!\n",
    "* Sorting Algorithms!\n",
    "* Search Algorithms!"
   ]
  },
  {
   "cell_type": "markdown",
   "id": "777d6dbe",
   "metadata": {
    "cell_style": "split"
   },
   "source": [
    "A general tree:\n",
    "<div align=\"center\">\n",
    "<img src=\"tree-example.jpg\" alt=\"[non-binary tree example]\" width=\"100%\">\n",
    "</div>"
   ]
  },
  {
   "cell_type": "markdown",
   "id": "e4691703",
   "metadata": {
    "cell_style": "split"
   },
   "source": [
    "<div align=\"center\">\n",
    "<img src=\"binary-tree-example.jpg\" alt=\"[binary tree example]\" width=\"70%\">\n",
    "</div>\n",
    "\n",
    "\n",
    "Every single parent has maximum chilren"
   ]
  },
  {
   "cell_type": "markdown",
   "id": "8343622f",
   "metadata": {},
   "source": [
    "## Important Terms\n",
    "\n",
    "* Root - the topmost node of the tree, only node without a parent\n",
    "* Ancestor vs Descendant - If two nodes are connected, the node that is closer to the root is the ancestor of the other node, similarly the further node its descendant\n",
    "* Parent vs Child - A nodes immediate descendant is its child, and a nodes immediate ancestor is its parent\n",
    "* Leaf - a node with no child nodes\n",
    "* Subtree - A subset of the tree, with a parent of the original tree becoming the root of the subtree\n",
    "* Tree as a recursive structure; useful for recursive AL; some AL use traverse trees\n",
    "* Depth - the greatest number of descendants between the root and a leaf node (up graph: 3)\n",
    "* Level - the number of edges between a node and the root. Root node has level 0 \n",
    "* Sibling - nodes that share the same parent"
   ]
  },
  {
   "cell_type": "markdown",
   "id": "4b7886ec",
   "metadata": {},
   "source": [
    "## Why are binary trees useful?\n",
    "\n",
    "* Simple to analyze\n",
    "* Many algorithms boil down to a series of \"True/False\" decisions that map well to binary trees\n",
    "* Ordering in particular fits well (either you are \"<\" or you aren't)\n",
    "* Easy to use with recursive algorithms \n",
    "\n",
    "## What types of binary trees are there?\n",
    "\n",
    "* Complete: (every level except the last one are full)\n",
    "* Perfect (or full): (**all leaves are at the same level**, all interior nodes have 2 children)\n",
    "* Balanced: (left and right subtrees differ by at most 1 level)\n",
    "* Special:\n",
    "  * Binary Heaps (for (primary)/binary queues)\n",
    "  * Binary Search Trees\n",
    "  \n",
    "## Any other interesting trees?\n",
    "\n",
    "* Prefix trees or tries"
   ]
  },
  {
   "cell_type": "markdown",
   "id": "b07d5cc6",
   "metadata": {},
   "source": [
    "## Using Vectors to implement a Binary Tree"
   ]
  },
  {
   "cell_type": "code",
   "execution_count": 2,
   "id": "b1c30306",
   "metadata": {
    "cell_style": "center",
    "vscode": {
     "languageId": "rust"
    }
   },
   "outputs": [],
   "source": [
    "#[derive(Debug)]\n",
    "struct TreeNode {\n",
    "    value: usize,\n",
    "    //each node has data that's holding; \n",
    "    left: Option<usize>,\n",
    "    //keeps track of left and right child: the reason why it's Option (Some or None)\n",
    "    right: Option<usize>,\n",
    "}\n",
    "\n",
    "impl TreeNode {\n",
    "    fn new(value: usize) -> Self {\n",
    "        //at first: no children\n",
    "        TreeNode {\n",
    "            value,\n",
    "            left: None,\n",
    "            right: None,\n",
    "        }\n",
    "    }\n",
    "}"
   ]
  },
  {
   "cell_type": "code",
   "execution_count": 7,
   "id": "007cf10b",
   "metadata": {
    "cell_style": "center",
    "vscode": {
     "languageId": "rust"
    }
   },
   "outputs": [],
   "source": [
    "#[derive(Debug)]\n",
    "struct BinaryTree {\n",
    "    nodes: Vec<TreeNode>,\n",
    "    //Vector of Treenode; holding all the nodes together\n",
    "    root: Option<usize>,\n",
    "    //keep track of where root is\n",
    "}\n",
    "\n",
    "impl BinaryTree {\n",
    "    fn new() -> Self {\n",
    "        BinaryTree { nodes: Vec::new(), root: None }\n",
    "        //initialize vector to empty; empty tree\n",
    "    }\n",
    "\n",
    "    fn insert(&mut self, value: usize) {\n",
    "        //self as method and value(what we will insert\n",
    "        let new_node_index = self.nodes.len();\n",
    "        //look at the length of the node vector; what we append is one we pass as we push it\n",
    "        //if .len(1): we have sth; \n",
    "        self.nodes.push(TreeNode::new(value));\n",
    "        //then add the new node at the root\n",
    "\n",
    "        match self.root {\n",
    "            Some(root_index) => self.insert_at(root_index, new_node_index),\n",
    "            //if root currently exist; take in the index of the root\n",
    "            None => self.root = Some(new_node_index),\n",
    "            //if not, we will make new node index (zero for first element; root tells the vector\n",
    "        }\n",
    "    }\n",
    "\n",
    "    fn insert_at(&mut self, current_index: usize, new_node_index: usize) {\n",
    "        let current_node = &mut self.nodes[current_index];\n",
    "        //get the node at current index; \n",
    "        //BELOW: check if the node has left or right child and add new node there\n",
    "        //try to insert new node as left child of current node\n",
    "        //\n",
    "        if current_node.left.is_none() {\n",
    "            current_node.left = Some(new_node_index);\n",
    "        } else if current_node.right.is_none() {\n",
    "            current_node.right = Some(new_node_index);\n",
    "        } else {\n",
    "            // Insert in left subtree for simplicity, could be more complex to keep balanced\n",
    "            let left = current_node.left.unwrap();\n",
    "            self.insert_at(left, new_node_index);\n",
    "        }\n",
    "    }\n",
    "    \n",
    "}\n"
   ]
  },
  {
   "cell_type": "code",
   "execution_count": 9,
   "id": "537403e5",
   "metadata": {
    "cell_style": "split",
    "vscode": {
     "languageId": "rust"
    }
   },
   "outputs": [
    {
     "name": "stdout",
     "output_type": "stream",
     "text": [
      "BinaryTree {\n",
      "    nodes: [\n",
      "        TreeNode {\n",
      "            value: 1,\n",
      "            left: Some(\n",
      "                1,\n",
      "            ),\n",
      "            right: Some(\n",
      "                2,\n",
      "            ),\n",
      "        },\n",
      "        TreeNode {\n",
      "            value: 2,\n",
      "            left: Some(\n",
      "                3,\n",
      "            ),\n",
      "            right: Some(\n",
      "                4,\n",
      "            ),\n",
      "        },\n",
      "        TreeNode {\n",
      "            value: 3,\n",
      "            left: None,\n",
      "            right: None,\n",
      "        },\n",
      "        TreeNode {\n",
      "            value: 6,\n",
      "            left: Some(\n",
      "                5,\n",
      "            ),\n",
      "            right: Some(\n",
      "                6,\n",
      "            ),\n",
      "        },\n",
      "        TreeNode {\n",
      "            value: 7,\n",
      "            left: None,\n",
      "            right: None,\n",
      "        },\n",
      "        TreeNode {\n",
      "            value: 11,\n",
      "            left: Some(\n",
      "                7,\n",
      "            ),\n",
      "            right: None,\n",
      "        },\n",
      "        TreeNode {\n",
      "            value: 23,\n",
      "            left: None,\n",
      "            right: None,\n",
      "        },\n",
      "        TreeNode {\n",
      "            value: 34,\n",
      "            left: None,\n",
      "            right: None,\n",
      "        },\n",
      "    ],\n",
      "    root: Some(\n",
      "        0,\n",
      "    ),\n",
      "}\n"
     ]
    }
   ],
   "source": [
    "let mut tree = BinaryTree::new();\n",
    "tree.insert(1);\n",
    "tree.insert(2);\n",
    "tree.insert(3);\n",
    "tree.insert(6);\n",
    "tree.insert(7);\n",
    "tree.insert(11);\n",
    "tree.insert(23);\n",
    "tree.insert(34);\n",
    "\n",
    "println!(\"{:#?}\", tree);\n"
   ]
  },
  {
   "cell_type": "markdown",
   "id": "9f8f2d15",
   "metadata": {
    "cell_style": "split"
   },
   "source": [
    "<div align=\"center\">\n",
    "<img src=\"binary_tree.png\" alt=\"[binary tree]\" width=\"100%\">\n",
    "</div>"
   ]
  },
  {
   "cell_type": "markdown",
   "id": "a8951fc6",
   "metadata": {
    "cell_style": "split"
   },
   "source": [
    "This isn't super readable, is there a better way to output this tree?\n",
    "\n",
    "## Tree Traversal\n",
    "\n",
    "There are several ways to traverse trees using algorithms we have seen before:\n",
    "* Using BFS\n",
    "  * Level-order Traversal\n",
    "* Using DFS (leverage the stack)\n",
    "  * Pre-order Traversal (visit current node, then left and right - recursively\n",
    "  * In-order Traversal\n",
    "  * Post Order Traversal\n",
    "\n",
    "We are going to use level-order traversal to visit each level of the tree in order"
   ]
  },
  {
   "cell_type": "markdown",
   "id": "ebafe89d",
   "metadata": {
    "cell_style": "split"
   },
   "source": [
    "## Level-Order Traversal\n",
    "\n",
    "* Create an empty queue\n",
    "* Add the root of tree to queue\n",
    "* While the queue is not empty\n",
    "  * Remove node from queue and visit it\n",
    "  * Add the left child of node to the queue if it exists\n",
    "  * Add the right child of node to the queue if it exists\n",
    "  \n",
    " "
   ]
  },
  {
   "cell_type": "code",
   "execution_count": 11,
   "id": "154d6862",
   "metadata": {
    "cell_style": "center",
    "slideshow": {
     "slide_type": "-"
    },
    "vscode": {
     "languageId": "rust"
    }
   },
   "outputs": [
    {
     "name": "stdout",
     "output_type": "stream",
     "text": [
      "1\n",
      "2\n",
      "3\n",
      "6\n",
      "7\n",
      "11\n",
      "23\n",
      "34\n"
     ]
    }
   ],
   "source": [
    "use std::collections::VecDeque;\n",
    "fn level_order_traversal(tree: &BinaryTree) {\n",
    "    //start from root note\n",
    "  if let Some(root_index) = tree.root {\n",
    "    let mut queue = VecDeque::new();\n",
    "    queue.push_back(root_index);\n",
    "      //iterate; add the children from the queue; \n",
    "    while let Some(node_index) = queue.pop_front() {\n",
    "      let node = &tree.nodes[node_index];\n",
    "      println!(\"{}\", node.value);\n",
    "      if let Some(left_index) = node.left {\n",
    "        queue.push_back(left_index);\n",
    "      }\n",
    "      if let Some(right_index) = node.right {\n",
    "        queue.push_back(right_index);\n",
    "      }\n",
    "    }\n",
    "  }\n",
    "}\n",
    "\n",
    "let mut tree2 = BinaryTree::new();\n",
    "tree2.insert(1);\n",
    "tree2.insert(2);\n",
    "tree2.insert(3);\n",
    "tree2.insert(6);\n",
    "tree2.insert(7);\n",
    "tree2.insert(11);\n",
    "tree2.insert(23);\n",
    "tree2.insert(34);\n",
    "level_order_traversal(&tree2);"
   ]
  },
  {
   "cell_type": "code",
   "execution_count": 13,
   "id": "da178c38",
   "metadata": {
    "cell_style": "center",
    "vscode": {
     "languageId": "rust"
    }
   },
   "outputs": [
    {
     "name": "stdout",
     "output_type": "stream",
     "text": [
      "1 \n",
      "2 3 \n",
      "6 7 \n",
      "11 23 \n",
      "34 \n"
     ]
    }
   ],
   "source": [
    "// Slightly more complex version that prints each level on a different line\n",
    "use std::collections::VecDeque;\n",
    "fn level_order_traversal2(tree: &BinaryTree) {\n",
    "  if let Some(root_index) = tree.root {\n",
    "    let mut queue = VecDeque::new();\n",
    "    queue.push_back(root_index);\n",
    "    while !queue.is_empty() {\n",
    "      let level_size = queue.len();\n",
    "        for _ in 0..level_size {\n",
    "          if let Some(node_index) = queue.pop_front() {\n",
    "            let node = &tree.nodes[node_index];\n",
    "            print!(\"{} \", node.value);\n",
    "\n",
    "            if let Some(left_index) = node.left {\n",
    "              queue.push_back(left_index);\n",
    "            }\n",
    "            if let Some(right_index) = node.right {\n",
    "              queue.push_back(right_index);\n",
    "            }\n",
    "        }\n",
    "      }\n",
    "      println!(); // New line after each level\n",
    "        //print: only prints back to back in one line\n",
    "        //println: print in a new line\n",
    "    }\n",
    "  }\n",
    "}\n",
    "\n",
    "let mut tree2 = BinaryTree::new();\n",
    "tree2.insert(1);\n",
    "tree2.insert(2);\n",
    "tree2.insert(3);\n",
    "tree2.insert(6);\n",
    "tree2.insert(7);\n",
    "tree2.insert(11);\n",
    "tree2.insert(23);\n",
    "tree2.insert(34);\n",
    "level_order_traversal2(&tree2);"
   ]
  },
  {
   "cell_type": "markdown",
   "id": "b1f74297",
   "metadata": {},
   "source": [
    "## Pre-Order Traversal\n",
    "\n",
    "Often used when making a copy of a tree, uses DFS\n",
    "\n",
    "Algorithm:\n",
    "* Visit the current node\n",
    "* Traverse the left subtree\n",
    "* Traverse the right subtree\n",
    "\n",
    "Useful for making copies of trees; efficient way of making copy; easy to do current left and right\n",
    "\n",
    "Good at parsing"
   ]
  },
  {
   "cell_type": "code",
   "execution_count": 15,
   "id": "6975f8f7",
   "metadata": {
    "vscode": {
     "languageId": "rust"
    }
   },
   "outputs": [
    {
     "name": "stdout",
     "output_type": "stream",
     "text": [
      "1\n",
      "2\n",
      "6\n",
      "11\n",
      "34\n",
      "23\n",
      "7\n",
      "3\n"
     ]
    },
    {
     "data": {
      "text/plain": [
       "()"
      ]
     },
     "execution_count": 15,
     "metadata": {},
     "output_type": "execute_result"
    }
   ],
   "source": [
    "fn pre_order_traversal(tree: &BinaryTree, node_index: Option<usize>) {\n",
    "  if let Some(index) = node_index {\n",
    "    let node = &tree.nodes[index];\n",
    "      //visit current node\n",
    "    println!(\"{}\", node.value);\n",
    "    pre_order_traversal(tree, node.left);\n",
    "    pre_order_traversal(tree, node.right);\n",
    "  }\n",
    "}\n",
    "\n",
    "pre_order_traversal(&tree2, tree2.root)\n",
    "\n",
    "//visits 1, 2, 6, 11, 34, (folloing back up ->) 23, 7, 3"
   ]
  },
  {
   "cell_type": "code",
   "execution_count": null,
   "id": "865f69a1-67f5-4510-95db-b8922fe5d59a",
   "metadata": {
    "vscode": {
     "languageId": "rust"
    }
   },
   "outputs": [],
   "source": []
  },
  {
   "cell_type": "markdown",
   "id": "02d22c0d",
   "metadata": {},
   "source": [
    "## What about In-Order and Post-Order Traversals?\n",
    "\n",
    "In-Order traveral (Good for accessing the elements of the tree in sorted order)\n",
    "\n",
    "Visit left, current and right\n",
    "\n",
    "Reading the tree from left to right\n",
    "\n",
    "good at accessing in the order\n",
    "\n",
    "* Visit the left child\n",
    "* Visit the current node\n",
    "* Visit the right child\n",
    "\n",
    "Post-Order traversal (Good for deleting the tree or parts of it, must delete children before parents):\n",
    "* Visit the right child\n",
    "* Visit the left child\n",
    "* Visit the current node\n"
   ]
  },
  {
   "cell_type": "code",
   "execution_count": 17,
   "id": "66864913-3b07-4f6f-ade7-b716dacceab4",
   "metadata": {
    "vscode": {
     "languageId": "rust"
    }
   },
   "outputs": [
    {
     "name": "stdout",
     "output_type": "stream",
     "text": [
      "34\n",
      "11\n",
      "6\n",
      "23\n",
      "2\n",
      "7\n",
      "1\n",
      "3\n"
     ]
    },
    {
     "data": {
      "text/plain": [
       "()"
      ]
     },
     "execution_count": 17,
     "metadata": {},
     "output_type": "execute_result"
    }
   ],
   "source": [
    "fn pre_order_traversal(tree: &BinaryTree, node_index: Option<usize>) {\n",
    "  if let Some(index) = node_index {\n",
    "    let node = &tree.nodes[index];\n",
    "      //visit current node\n",
    "    pre_order_traversal(tree, node.left);\n",
    "    println!(\"{}\", node.value);\n",
    "    pre_order_traversal(tree, node.right);\n",
    "  }\n",
    "}\n",
    "\n",
    "pre_order_traversal(&tree2, tree2.root)\n",
    "\n",
    "//IN ORDER\n",
    "\n",
    "//visits 1, 2, 6, 11, 34, (folloing back up ->) 23, 7, 3"
   ]
  },
  {
   "cell_type": "code",
   "execution_count": 19,
   "id": "c6cee32d-0201-402d-922a-908e506b7eae",
   "metadata": {
    "vscode": {
     "languageId": "rust"
    }
   },
   "outputs": [
    {
     "name": "stdout",
     "output_type": "stream",
     "text": [
      "3\n",
      "7\n",
      "23\n",
      "34\n",
      "11\n",
      "6\n",
      "2\n",
      "1\n"
     ]
    },
    {
     "data": {
      "text/plain": [
       "()"
      ]
     },
     "execution_count": 19,
     "metadata": {},
     "output_type": "execute_result"
    }
   ],
   "source": [
    "fn pre_order_traversal(tree: &BinaryTree, node_index: Option<usize>) {\n",
    "  if let Some(index) = node_index {\n",
    "    let node = &tree.nodes[index];\n",
    "      //visit current node\n",
    "    pre_order_traversal(tree, node.right);\n",
    "    pre_order_traversal(tree, node.left);\n",
    "    println!(\"{}\", node.value);\n",
    "\n",
    "  }\n",
    "}\n",
    "\n",
    "pre_order_traversal(&tree2, tree2.root)\n",
    "\n",
    "//POST ORDER\n",
    "\n",
    "//visits 1, 2, 6, 11, 34, (folloing back up ->) 23, 7, 3"
   ]
  },
  {
   "cell_type": "markdown",
   "id": "819530db",
   "metadata": {
    "slideshow": {
     "slide_type": "slide"
    }
   },
   "source": [
    "## Binary search trees"
   ]
  },
  {
   "cell_type": "markdown",
   "id": "dbe7b305",
   "metadata": {
    "cell_style": "split",
    "slideshow": {
     "slide_type": "-"
    }
   },
   "source": [
    "* Organize data into a binary tree\n",
    "  * Similar to binary heaps\n",
    "  * binary heaps = binary tree with some requirements\n",
    "  * the child has to be less than the parent (and true at every level)\n",
    "  * This ensures the root is the largest file\n",
    "  * Search Tree: ensures the tree is sorted when do In-Order Traversal"
   ]
  },
  {
   "cell_type": "markdown",
   "id": "05e16ae1",
   "metadata": {
    "cell_style": "split",
    "slideshow": {
     "slide_type": ""
    }
   },
   "source": [
    "<div align=\"center\">\n",
    "<img src=\"sample_tree.png\" alt=\"[sample tree]\" width=\"37%\">\n",
    "</div>"
   ]
  },
  {
   "cell_type": "markdown",
   "id": "f3def5ed",
   "metadata": {
    "cell_style": "split",
    "slideshow": {
     "slide_type": "fragment"
    }
   },
   "source": [
    "* Invariant at each node:\n",
    "  * all left descendants${}\\le{}$parent\n",
    "  * parent${}\\le{}$all right descendants"
   ]
  },
  {
   "cell_type": "markdown",
   "id": "5af7219f",
   "metadata": {
    "cell_style": "split",
    "slideshow": {
     "slide_type": ""
    }
   },
   "source": [
    "<div align=\"center\">\n",
    "<img src=\"relationship.png\" alt=\"[sample tree]\" width=\"37%\">\n",
    "</div>"
   ]
  },
  {
   "cell_type": "markdown",
   "id": "b2422300",
   "metadata": {
    "slideshow": {
     "slide_type": "fragment"
    }
   },
   "source": [
    "* Compared to binary heaps:\n",
    "  * different ordering of elements"
   ]
  },
  {
   "cell_type": "markdown",
   "id": "7187bd21",
   "metadata": {
    "slideshow": {
     "slide_type": "subslide"
    }
   },
   "source": [
    "## Basic operations: find a key $k$\n",
    "\n",
    "How can we do this?"
   ]
  },
  {
   "cell_type": "markdown",
   "id": "b7720fbd",
   "metadata": {
    "slideshow": {
     "slide_type": "fragment"
    }
   },
   "source": [
    "* Descend recursively from the root until $k$ found or stuck:\n",
    "  * If $k<{}$value at the current node, go left\n",
    "  * If $k>{}$value at the current node, go right\n",
    "\n",
    "<br>\n",
    "<br>\n",
    "<div align=\"center\">\n",
    "    <b>[see examples on the board]</b>\n",
    "</div>"
   ]
  },
  {
   "cell_type": "markdown",
   "id": "f28516eb",
   "metadata": {
    "slideshow": {
     "slide_type": "subslide"
    }
   },
   "source": [
    "## Basic operations: insert a key $k$\n",
    "\n",
    "How can we do this?"
   ]
  },
  {
   "cell_type": "markdown",
   "id": "dea63024",
   "metadata": {
    "slideshow": {
     "slide_type": "fragment"
    }
   },
   "source": [
    "* Keep descending from the root until you leave the tree\n",
    "  * If $k\\le{}$value at the current node, go left\n",
    "  * If $k>{}$value at the current node, go right\n",
    "* Create a new node containing $k$ there\n",
    "\n",
    "<br>\n",
    "<br>\n",
    "<div align=\"center\">\n",
    "    <b>[see examples on the board]</b>\n",
    "</div>"
   ]
  },
  {
   "cell_type": "markdown",
   "id": "38c216d9",
   "metadata": {
    "slideshow": {
     "slide_type": "subslide"
    }
   },
   "source": [
    "## Basic operations: delete a node\n",
    "\n",
    "How can we do this?"
   ]
  },
  {
   "cell_type": "markdown",
   "id": "619ae9be",
   "metadata": {
    "slideshow": {
     "slide_type": "fragment"
    }
   },
   "source": [
    "* More complicated: need to find a replacement\n",
    "* If the node is a leaf: nothing to do\n",
    "* If only one child: move the child up\n",
    "* Otherwise:\n",
    "  * find the **rightmost** descendant in the **left** subtree\n",
    "  * the largest value smaller than the parent; this will be bigger than anything in the left subtrees (or below)\n",
    "  * it will have at most one child\n",
    "\n",
    "<br>\n",
    "<br>\n",
    "<div align=\"center\">\n",
    "    <b>[see examples on the board]</b>\n",
    "</div>"
   ]
  },
  {
   "cell_type": "markdown",
   "id": "094231e4",
   "metadata": {
    "cell_style": "center",
    "slideshow": {
     "slide_type": "slide"
    }
   },
   "source": [
    "## Cost of these operations?"
   ]
  },
  {
   "cell_type": "markdown",
   "id": "b07b1971",
   "metadata": {
    "slideshow": {
     "slide_type": "fragment"
    }
   },
   "source": [
    "<div align=\"center\">\n",
    "    <b>$O($depth of the tree$)$</b>\n",
    "\n",
    "Deletions, look up, search: log n"
   ]
  },
  {
   "cell_type": "markdown",
   "id": "0006331e",
   "metadata": {
    "slideshow": {
     "slide_type": "fragment"
    }
   },
   "source": [
    "**Bad news:** the depth can be made proportional to $n$, the number of nodes"
   ]
  },
  {
   "cell_type": "markdown",
   "id": "ebfc84b7",
   "metadata": {
    "slideshow": {
     "slide_type": "fragment"
    }
   },
   "source": [
    "**Good news:** smart ways to make the depth $O(\\log n)$"
   ]
  },
  {
   "cell_type": "markdown",
   "id": "548609c8",
   "metadata": {
    "cell_style": "center",
    "slideshow": {
     "slide_type": "subslide"
    }
   },
   "source": [
    "## Balanced binary search trees\n",
    "\n",
    "There are smart ways to rebalance the tree!\n",
    "\n",
    "Ensures any potential long branches get balanced out; shifts the tree around; \n",
    "\n",
    "* Depth: $O(\\log n)$"
   ]
  },
  {
   "cell_type": "markdown",
   "id": "cb684396",
   "metadata": {
    "slideshow": {
     "slide_type": "slide"
    }
   },
   "source": [
    "\n",
    "\n",
    "# Binary search trees cont'd\n",
    "# Applications (range searching)\n",
    "# Rust: `BTreeMap` and `BTreeSet`\n",
    "# Tries (Prefix Trees)\n"
   ]
  },
  {
   "cell_type": "code",
   "execution_count": 21,
   "id": "001c1426",
   "metadata": {
    "vscode": {
     "languageId": "rust"
    }
   },
   "outputs": [
    {
     "name": "stdout",
     "output_type": "stream",
     "text": [
      "BinaryTree {\n",
      "    nodes: [\n",
      "        TreeNode {\n",
      "            value: 1,\n",
      "            left: None,\n",
      "            right: Some(\n",
      "                1,\n",
      "            ),\n",
      "        },\n",
      "        TreeNode {\n",
      "            value: 2,\n",
      "            left: None,\n",
      "            right: Some(\n",
      "                2,\n",
      "            ),\n",
      "        },\n",
      "        TreeNode {\n",
      "            value: 3,\n",
      "            left: None,\n",
      "            right: Some(\n",
      "                3,\n",
      "            ),\n",
      "        },\n",
      "        TreeNode {\n",
      "            value: 6,\n",
      "            left: None,\n",
      "            right: Some(\n",
      "                4,\n",
      "            ),\n",
      "        },\n",
      "        TreeNode {\n",
      "            value: 7,\n",
      "            left: None,\n",
      "            right: Some(\n",
      "                5,\n",
      "            ),\n",
      "        },\n",
      "        TreeNode {\n",
      "            value: 11,\n",
      "            left: None,\n",
      "            right: Some(\n",
      "                6,\n",
      "            ),\n",
      "        },\n",
      "        TreeNode {\n",
      "            value: 23,\n",
      "            left: None,\n",
      "            right: Some(\n",
      "                7,\n",
      "            ),\n",
      "        },\n",
      "        TreeNode {\n",
      "            value: 34,\n",
      "            left: None,\n",
      "            right: None,\n",
      "        },\n",
      "    ],\n",
      "    root: Some(\n",
      "        0,\n",
      "    ),\n",
      "}\n"
     ]
    }
   ],
   "source": [
    "#[derive(Debug)]\n",
    "struct TreeNode {\n",
    "    value: usize,\n",
    "    left: Option<usize>,\n",
    "    right: Option<usize>,\n",
    "}\n",
    "\n",
    "impl TreeNode {\n",
    "    fn new(value: usize) -> Self {\n",
    "        TreeNode {\n",
    "            value,\n",
    "            left: None,\n",
    "            right: None,\n",
    "        }\n",
    "    }\n",
    "}\n",
    "\n",
    "#[derive(Debug)]\n",
    "struct BinaryTree {\n",
    "    nodes: Vec<TreeNode>,\n",
    "    root: Option<usize>,\n",
    "}\n",
    "\n",
    "impl BinaryTree {\n",
    "    fn new() -> Self {\n",
    "        BinaryTree { nodes: Vec::new(), root: None }\n",
    "    }\n",
    "\n",
    "    fn insert(&mut self, value: usize) {\n",
    "        let new_node_index = self.nodes.len();\n",
    "        self.nodes.push(TreeNode::new(value));\n",
    "\n",
    "        match self.root {\n",
    "            Some(root_index) => self.insert_at(root_index, new_node_index, value),\n",
    "            None => self.root = Some(new_node_index),\n",
    "        }\n",
    "    }\n",
    "\n",
    "    fn insert_at(&mut self, current_index: usize, new_node_index: usize, value:usize) {\n",
    "        let current_node = &mut self.nodes[current_index];\n",
    "        if current_node.value < value {\n",
    "            if current_node.right.is_none() {\n",
    "                current_node.right = Some(new_node_index);\n",
    "            } else {\n",
    "                let right = current_node.right.unwrap();\n",
    "                self.insert_at(right, new_node_index, value);\n",
    "            }\n",
    "        } else {\n",
    "            if current_node.left.is_none() {\n",
    "                current_node.left = Some(new_node_index);\n",
    "            } else {\n",
    "                let left = current_node.left.unwrap();\n",
    "                self.insert_at(left, new_node_index, value);\n",
    "            }\n",
    "        }\n",
    "    }\n",
    "}\n",
    "\n",
    "let mut tree = BinaryTree::new();\n",
    "tree.insert(1);\n",
    "tree.insert(2);\n",
    "tree.insert(3);\n",
    "tree.insert(6);\n",
    "tree.insert(7);\n",
    "tree.insert(11);\n",
    "tree.insert(23);\n",
    "tree.insert(34);\n",
    "println!(\"{:#?}\", tree);\n"
   ]
  },
  {
   "cell_type": "markdown",
   "id": "1b2259d1",
   "metadata": {},
   "source": [
    "**Last time:** Unbalanced binary search trees can be inefficient!"
   ]
  },
  {
   "cell_type": "markdown",
   "id": "e75cd768",
   "metadata": {
    "cell_style": "center",
    "slideshow": {
     "slide_type": "subslide"
    }
   },
   "source": [
    "## Balanced binary search trees\n",
    "\n",
    "There are smart ways to rebalance the tree!\n",
    "\n",
    "* Depth: $O(\\log n)$"
   ]
  },
  {
   "cell_type": "markdown",
   "id": "d25f2b56",
   "metadata": {
    "cell_style": "center",
    "slideshow": {
     "slide_type": ""
    }
   },
   "source": [
    "* Usually additional information has to be kept at each node"
   ]
  },
  {
   "cell_type": "markdown",
   "id": "2b69c10d",
   "metadata": {
    "cell_style": "center",
    "slideshow": {
     "slide_type": ""
    }
   },
   "source": [
    "* Popular examples:\n",
    "  * Red–black trees\n",
    "  * AVL trees: once have any subtree that is longer than other, rebalance them\n",
    "  * BTrees (Used in Rust): lot more optimization\n",
    "  * ...\n",
    "  \n",
    "  Fundamentally they all support rebalancing operations using some form of tree rotation.\n",
    "\n",
    "  When unbalanced (which are twice as another branch)"
   ]
  },
  {
   "cell_type": "markdown",
   "id": "d57085f4",
   "metadata": {
    "slideshow": {
     "slide_type": "subslide"
    }
   },
   "source": [
    "## Basic operations: rebalance a tree\n",
    "\n",
    "How can we do this?"
   ]
  },
  {
   "cell_type": "markdown",
   "id": "6d0e4e3f",
   "metadata": {},
   "source": [
    "* Quite a bit more complicated\n",
    "* Basic idea. Find the branch that has gotten too long\n",
    "  * Swap the parent with the child that is at the top of the branch by making the child the parent and the parent the child\n",
    "  * If you picked a left child take the right subtree and make it a left child of the old parent\n",
    "  * if you picked a right child take left subtree and make it a right child of the old parent\n",
    "  \n",
    "<br>\n",
    "<br>\n",
    "<div align=\"center\">\n",
    "    <b>[see examples on the board]</b>\n",
    "</div>\n",
    "\n",
    "Rebalancing is efficient"
   ]
  },
  {
   "cell_type": "markdown",
   "id": "a77f0588",
   "metadata": {},
   "source": [
    "## A simple way to rebalance a binary tree\n",
    "\n",
    "### First do an in-order traversal to get the nodes in sorted order\n",
    "### Then use the middle of the sorted vector to be the root of the tree and recursively build the rest"
   ]
  },
  {
   "cell_type": "code",
   "execution_count": 23,
   "id": "663bd553",
   "metadata": {
    "vscode": {
     "languageId": "rust"
    }
   },
   "outputs": [],
   "source": [
    "impl BinaryTree {\n",
    "    fn in_order_traversal(&self, node_index: Option<usize>)->Vec<usize> {\n",
    "        let mut u: Vec<usize> = vec![];\n",
    "        if let Some(index) = node_index {\n",
    "            let node = &self.nodes[index];\n",
    "            u = self.in_order_traversal(node.left);\n",
    "            let mut v: Vec<usize> = vec![node.value];\n",
    "            let mut w: Vec<usize> = self.in_order_traversal(node.right);\n",
    "            u.append(&mut v);\n",
    "            u.append(&mut w);\n",
    "        }\n",
    "        return u;\n",
    "    }\n",
    "}\n",
    "\n"
   ]
  },
  {
   "cell_type": "code",
   "execution_count": 67,
   "id": "080b785e-21f4-4fde-93da-45c8f9729568",
   "metadata": {
    "vscode": {
     "languageId": "rust"
    }
   },
   "outputs": [
    {
     "ename": "Error",
     "evalue": "expected one of `!`, `(`, `+`, `::`, `<`, `>`, or `as`, found `align`",
     "output_type": "error",
     "traceback": [
      "\u001b[31mError:\u001b[0m expected one of `!`, `(`, `+`, `::`, `<`, `>`, or `as`, found `align`",
      "   \u001b[38;5;246m╭\u001b[0m\u001b[38;5;246m─\u001b[0m\u001b[38;5;246m[\u001b[0mcommand_67:1:1\u001b[38;5;246m]\u001b[0m",
      "   \u001b[38;5;246m│\u001b[0m",
      " \u001b[38;5;246m1 │\u001b[0m \u001b[38;5;249m<\u001b[0m\u001b[38;5;249md\u001b[0m\u001b[38;5;249mi\u001b[0m\u001b[38;5;249mv\u001b[0m\u001b[38;5;249m \u001b[0m\u001b[38;5;100ma\u001b[0m\u001b[38;5;100ml\u001b[0m\u001b[38;5;100mi\u001b[0m\u001b[38;5;100mg\u001b[0m\u001b[38;5;100mn\u001b[0m\u001b[38;5;249m=\u001b[0m\u001b[38;5;249m\"\u001b[0m\u001b[38;5;249mc\u001b[0m\u001b[38;5;249me\u001b[0m\u001b[38;5;249mn\u001b[0m\u001b[38;5;249mt\u001b[0m\u001b[38;5;249me\u001b[0m\u001b[38;5;249mr\u001b[0m\u001b[38;5;249m\"\u001b[0m\u001b[38;5;249m>\u001b[0m",
      " \u001b[38;5;240m  │\u001b[0m     \u001b[38;5;54m│\u001b[0m\u001b[38;5;100m─\u001b[0m\u001b[38;5;100m─\u001b[0m\u001b[38;5;100m┬\u001b[0m\u001b[38;5;100m─\u001b[0m\u001b[38;5;100m─\u001b[0m  ",
      " \u001b[38;5;240m  │\u001b[0m     \u001b[38;5;54m╰\u001b[0m\u001b[38;5;54m─\u001b[0m\u001b[38;5;54m─\u001b[0m\u001b[38;5;54m─\u001b[0m\u001b[38;5;54m─\u001b[0m\u001b[38;5;54m─\u001b[0m\u001b[38;5;54m─\u001b[0m\u001b[38;5;54m─\u001b[0m expected one of 7 possible tokens",
      " \u001b[38;5;240m  │\u001b[0m        \u001b[38;5;100m│\u001b[0m    ",
      " \u001b[38;5;240m  │\u001b[0m        \u001b[38;5;100m╰\u001b[0m\u001b[38;5;100m─\u001b[0m\u001b[38;5;100m─\u001b[0m\u001b[38;5;100m─\u001b[0m\u001b[38;5;100m─\u001b[0m unexpected token",
      "\u001b[38;5;246m───╯\u001b[0m"
     ]
    }
   ],
   "source": [
    "<div align=\"center\">\n",
    "<img src=\"binary_tree.png\" alt=\"[binary tree]\" width=\"100%\">\n",
    "</div>"
   ]
  },
  {
   "cell_type": "code",
   "execution_count": 25,
   "id": "dc4d990d",
   "metadata": {
    "vscode": {
     "languageId": "rust"
    }
   },
   "outputs": [
    {
     "name": "stdout",
     "output_type": "stream",
     "text": [
      "[1, 2, 3, 6, 7, 11, 23, 34]\n"
     ]
    }
   ],
   "source": [
    "let z = tree.in_order_traversal(tree.root);\n",
    "//In-order traversal; read from left to right\n",
    "println!(\"{:?}\", z);"
   ]
  },
  {
   "cell_type": "code",
   "execution_count": 3,
   "id": "7b125fb1-22db-4415-8dba-1cf17a729cc1",
   "metadata": {
    "vscode": {
     "languageId": "rust"
    }
   },
   "outputs": [],
   "source": [
    "/*let z = tree.in_order_traversal(tree.root);\n",
    "z.sort();\n",
    "println!(\"{:?}\", z);*/"
   ]
  },
  {
   "cell_type": "code",
   "execution_count": 27,
   "id": "f7b27938",
   "metadata": {
    "vscode": {
     "languageId": "rust"
    }
   },
   "outputs": [],
   "source": [
    "impl BinaryTree {    \n",
    "    fn balance_bst(&mut self, v: &[usize], start:usize, end:usize) -> Option<usize> {\n",
    "        if start >= end {\n",
    "            return None;\n",
    "        }\n",
    "        let mid = (start+end) / 2;\n",
    "        let node_index = self.nodes.len();\n",
    "        self.insert(v[mid]);\n",
    "        self.nodes[node_index].left = self.balance_bst(v, start, mid);\n",
    "        self.nodes[node_index].right = self.balance_bst(v, mid+1, end);\n",
    "        Some(node_index)\n",
    "    }\n",
    "}\n",
    "\n"
   ]
  },
  {
   "cell_type": "code",
   "execution_count": 29,
   "id": "6f3ce975",
   "metadata": {
    "vscode": {
     "languageId": "rust"
    }
   },
   "outputs": [
    {
     "name": "stdout",
     "output_type": "stream",
     "text": [
      "BinaryTree {\n",
      "    nodes: [\n",
      "        TreeNode {\n",
      "            value: 7,\n",
      "            left: Some(\n",
      "                1,\n",
      "            ),\n",
      "            right: Some(\n",
      "                5,\n",
      "            ),\n",
      "        },\n",
      "        TreeNode {\n",
      "            value: 3,\n",
      "            left: Some(\n",
      "                2,\n",
      "            ),\n",
      "            right: Some(\n",
      "                4,\n",
      "            ),\n",
      "        },\n",
      "        TreeNode {\n",
      "            value: 2,\n",
      "            left: Some(\n",
      "                3,\n",
      "            ),\n",
      "            right: None,\n",
      "        },\n",
      "        TreeNode {\n",
      "            value: 1,\n",
      "            left: None,\n",
      "            right: None,\n",
      "        },\n",
      "        TreeNode {\n",
      "            value: 6,\n",
      "            left: None,\n",
      "            right: None,\n",
      "        },\n",
      "        TreeNode {\n",
      "            value: 23,\n",
      "            left: Some(\n",
      "                6,\n",
      "            ),\n",
      "            right: Some(\n",
      "                7,\n",
      "            ),\n",
      "        },\n",
      "        TreeNode {\n",
      "            value: 11,\n",
      "            left: None,\n",
      "            right: None,\n",
      "        },\n",
      "        TreeNode {\n",
      "            value: 34,\n",
      "            left: None,\n",
      "            right: None,\n",
      "        },\n",
      "    ],\n",
      "    root: Some(\n",
      "        0,\n",
      "    ),\n",
      "}\n",
      "7 \n",
      "3 23 \n",
      "2 6 11 34 \n",
      "1 \n",
      "()\n"
     ]
    }
   ],
   "source": [
    "let mut bbtree = BinaryTree::new();\n",
    "bbtree.balance_bst(&z, 0, z.len());\n",
    "println!(\"{:#?}\", bbtree);\n",
    "println!(\"{:?}\", level_order_traversal2(&bbtree));"
   ]
  },
  {
   "cell_type": "markdown",
   "id": "7458e1a6",
   "metadata": {
    "slideshow": {
     "slide_type": "slide"
    }
   },
   "source": [
    "## Why use binary search trees?\n",
    "\n",
    "* Hash maps and hash sets give us $O(1)$ time operations?"
   ]
  },
  {
   "cell_type": "markdown",
   "id": "2b3f9c66",
   "metadata": {
    "slideshow": {
     "slide_type": "fragment"
    }
   },
   "source": [
    "### Reason 1: \n",
    "\n",
    "* Good worst case behavior: no need for a good hash function"
   ]
  },
  {
   "cell_type": "markdown",
   "id": "3d47d641",
   "metadata": {
    "slideshow": {
     "slide_type": "fragment"
    }
   },
   "source": [
    "### Reason 2:\n",
    "* Can answer efficiently questions such as:\n",
    "  * What is the smallest/greatest element?\n",
    "  * What is the smallest element greater than $x$?\n",
    "  * List all elements between $x$ and $y$\n",
    "  "
   ]
  },
  {
   "cell_type": "markdown",
   "id": "93c5d28c",
   "metadata": {
    "slideshow": {
     "slide_type": "slide"
    }
   },
   "source": [
    "## Example: find the smallest element greater than $x$"
   ]
  },
  {
   "cell_type": "markdown",
   "id": "9b567ac0",
   "metadata": {
    "slideshow": {
     "slide_type": "fragment"
    }
   },
   "source": [
    "**Question:** How can you list all elements in order in $O(n)$ time?\n",
    "\n",
    "<br>\n",
    "<br>\n",
    "<div align=\"center\">\n",
    "    <b>[Work out on the board]</b>\n",
    "</div>\n"
   ]
  },
  {
   "cell_type": "markdown",
   "id": "afd1ebf1",
   "metadata": {
    "slideshow": {
     "slide_type": "fragment"
    }
   },
   "source": [
    "**Answer:** recursively starting from the root\n",
    "\n",
    "* visit left subtree\n",
    "* output current node\n",
    "* visit right subtree"
   ]
  },
  {
   "cell_type": "markdown",
   "id": "41658f6d",
   "metadata": {
    "slideshow": {
     "slide_type": "fragment"
    }
   },
   "source": [
    "**Outputting smallest element greater than $x$:**\n",
    "\n",
    "* Like above, ignoring whole subtrees smaller than $x$\n",
    "* Will get the first element greater than $x$ in $O(\\log n)$ time"
   ]
  },
  {
   "cell_type": "markdown",
   "id": "a28044ce",
   "metadata": {
    "slideshow": {
     "slide_type": "fragment"
    }
   },
   "source": [
    "For balanced trees: listing $t$ first greater elements takes $O(t + \\log n)$ time"
   ]
  },
  {
   "cell_type": "markdown",
   "id": "f561fdae",
   "metadata": {
    "slideshow": {
     "slide_type": "slide"
    }
   },
   "source": [
    "## Binary search trees in Rust's standard library?\n",
    "\n",
    "It's just lookup\n",
    "\n",
    "Binary Search Tree: traversed down; binary search tree vs vector:\n",
    "\n",
    "search tree is much more efficient; larger: go right; smaller : go left; and go until the bottom\n",
    "\n",
    "* Not exactly\n",
    "\n",
    "* For efficiency reasons, $B$-trees:\n",
    "  * generalization of binary trees\n",
    "  * between $B$ and $2B$ keys in a node\n",
    "  * corresponding number of subtrees\n",
    "  \n",
    "What does the B stand for?\n",
    "\n",
    "<em> Invented by Bayer and McCreight at Boeing.  Suggested explanations have been Boeing, balanced, broad, bushy, and Bayer.  McCreight has said that \"the more you think about what the B in B-trees means, the better you understand B-trees. </em>"
   ]
  },
  {
   "cell_type": "markdown",
   "id": "5f395a1b",
   "metadata": {
    "slideshow": {
     "slide_type": "fragment"
    }
   },
   "source": [
    "Where can you meet $B$-trees\n",
    "* Traditionally, very popular in databases\n",
    "* Interesting that now considered more efficient for in memory operations"
   ]
  },
  {
   "cell_type": "markdown",
   "id": "c4e0e31b",
   "metadata": {
    "slideshow": {
     "slide_type": "slide"
    }
   },
   "source": [
    "## `std::collections::BTreeSet` and `...::BTreeMap`\n",
    "\n",
    "Sets and maps, respectively\n",
    "\n",
    "Set: Set\n",
    "\n",
    "Map: Keys and value\n",
    "\n",
    "HashMap: not sorted\n",
    "\n",
    "BTree: sorted"
   ]
  },
  {
   "cell_type": "code",
   "execution_count": 33,
   "id": "e27f4937",
   "metadata": {
    "slideshow": {
     "slide_type": "fragment"
    },
    "vscode": {
     "languageId": "rust"
    }
   },
   "outputs": [],
   "source": [
    "// let's create a set\n",
    "use std::collections::BTreeSet;\n",
    "let mut set: BTreeSet<i32> = BTreeSet::new();\n",
    "set.insert(11);\n",
    "set.insert(7);\n",
    "set.insert(5);\n",
    "set.insert(23);\n",
    "set.insert(25);"
   ]
  },
  {
   "cell_type": "code",
   "execution_count": 34,
   "id": "6e8f5607",
   "metadata": {
    "slideshow": {
     "slide_type": "fragment"
    },
    "vscode": {
     "languageId": "rust"
    }
   },
   "outputs": [
    {
     "name": "stdout",
     "output_type": "stream",
     "text": [
      "7\n",
      "11\n",
      "23\n"
     ]
    }
   ],
   "source": [
    "// listing a range\n",
    "set.range(7..25).for_each(|x| println!(\"{}\", x));"
   ]
  },
  {
   "cell_type": "code",
   "execution_count": 37,
   "id": "eeec465a",
   "metadata": {
    "slideshow": {
     "slide_type": "fragment"
    },
    "vscode": {
     "languageId": "rust"
    }
   },
   "outputs": [
    {
     "name": "stdout",
     "output_type": "stream",
     "text": [
      "7\n",
      "11\n"
     ]
    }
   ],
   "source": [
    "// listing a range: another way of specifying it\n",
    "use std::ops::Bound::{Included,Excluded};\n",
    "set.range((Excluded(5),Included(11))).for_each(|x| println!(\"{}\", x));"
   ]
  },
  {
   "cell_type": "code",
   "execution_count": 39,
   "id": "e03b8dd7",
   "metadata": {
    "vscode": {
     "languageId": "rust"
    }
   },
   "outputs": [
    {
     "name": "stdout",
     "output_type": "stream",
     "text": [
      "5\n",
      "7\n",
      "11\n",
      "23\n",
      "25\n"
     ]
    },
    {
     "data": {
      "text/plain": [
       "()"
      ]
     },
     "execution_count": 39,
     "metadata": {},
     "output_type": "execute_result"
    }
   ],
   "source": [
    "// Iterating through the items is the in-order traversal that will give you sorted output\n",
    "for i in &set {\n",
    "    println!(\"{}\", *i);\n",
    "}"
   ]
  },
  {
   "cell_type": "code",
   "execution_count": 41,
   "id": "14015f9f",
   "metadata": {
    "vscode": {
     "languageId": "rust"
    }
   },
   "outputs": [],
   "source": [
    "// let's make a map now\n",
    "use std::collections::BTreeMap;\n",
    "// We can rely on type inference to avoid having to fully write out the types\n",
    "let mut map = BTreeMap::new();\n",
    "map.insert(\"DS120\", \"Foundations of Data Science I\");\n",
    "map.insert(\"DS121\", \"Foundations of Data Science II\");\n",
    "map.insert(\"DS122\", \"Foundations of Data Science III\");\n",
    "map.insert(\"DS210\", \"Programming for Data Science\");\n",
    "map.insert(\"DS310\", \"Data Mechanics\");"
   ]
  },
  {
   "cell_type": "code",
   "execution_count": 43,
   "id": "12703de8",
   "metadata": {
    "vscode": {
     "languageId": "rust"
    }
   },
   "outputs": [
    {
     "name": "stdout",
     "output_type": "stream",
     "text": [
      "Course not found\n"
     ]
    },
    {
     "data": {
      "text/plain": [
       "()"
      ]
     },
     "execution_count": 43,
     "metadata": {},
     "output_type": "execute_result"
    }
   ],
   "source": [
    "// Try to find a course\n",
    "if !map.contains_key(\"DS111\") {\n",
    "    println!(\"Course not found\");\n",
    "}"
   ]
  },
  {
   "cell_type": "code",
   "execution_count": 45,
   "id": "16c1c631",
   "metadata": {
    "vscode": {
     "languageId": "rust"
    }
   },
   "outputs": [
    {
     "name": "stdout",
     "output_type": "stream",
     "text": [
      "DS120: \"Foundations of Data Science I\"\n",
      "DS121: \"Foundations of Data Science II\"\n",
      "DS122: \"Foundations of Data Science III\"\n",
      "DS210: \"Programming for Data Science\"\n",
      "DS310: \"Data Mechanics\"\n"
     ]
    },
    {
     "data": {
      "text/plain": [
       "()"
      ]
     },
     "execution_count": 45,
     "metadata": {},
     "output_type": "execute_result"
    }
   ],
   "source": [
    "for (course, name) in &map {\n",
    "    println!(\"{course}: \\\"{name}\\\"\");\n",
    "}"
   ]
  },
  {
   "cell_type": "code",
   "execution_count": 47,
   "id": "25f0454c",
   "metadata": {
    "vscode": {
     "languageId": "rust"
    }
   },
   "outputs": [
    {
     "name": "stdout",
     "output_type": "stream",
     "text": [
      "DS120: \"Foundations of Data Science I\"\n",
      "DS121: \"Foundations of Data Science II\"\n",
      "DS122: \"Foundations of Data Science III\"\n"
     ]
    }
   ],
   "source": [
    "// listing a range\n",
    "map.range(\"DS000\"..\"DS199\").for_each(|(x,y)| println!(\"{}: \\\"{}\\\"\", x, y));"
   ]
  },
  {
   "attachments": {
    "Trie_example.svg.png": {
     "image/png": "[encoded data removed]"
    }
   },
   "cell_type": "markdown",
   "id": "a005569a",
   "metadata": {},
   "source": [
    "# Trie\n",
    "\n",
    "A very efficient data structure for dictionary search, word suggestions, error corrections etc.\n",
    "\n",
    "![Trie_example.svg.png](attachment:Trie_example.svg.png)\n",
    "\n",
    "Available in Rust as an external create https://docs.rs/trie-rs/latest/trie_rs/\n"
   ]
  },
  {
   "cell_type": "code",
   "execution_count": 22,
   "id": "45b7158b",
   "metadata": {
    "vscode": {
     "languageId": "rust"
    }
   },
   "outputs": [
    {
     "name": "stderr",
     "output_type": "stream",
     "text": [
      "The type of the variable tree2 was redefined, so was lost.\n",
      "The type of the variable bbtree was redefined, so was lost.\n",
      "The type of the variable tree was redefined, so was lost.\n"
     ]
    },
    {
     "name": "stdout",
     "output_type": "stream",
     "text": [
      "[\"tea\", \"teapot\", \"ted\", \"ten\"]\n"
     ]
    }
   ],
   "source": [
    ":dep trie-rs=\"0.1.1\"\n",
    "fn testme() {\n",
    "    use std::str;\n",
    "    use trie_rs::TrieBuilder;\n",
    "    let mut builder = TrieBuilder::<u8>::new();  \n",
    "    \n",
    "    builder.push(\"to\");\n",
    "    builder.push(\"tea\");\n",
    "    builder.push(\"ted\");\n",
    "    builder.push(\"ten\");\n",
    "    builder.push(\"teapot\");\n",
    "    builder.push(\"in\");\n",
    "    builder.push(\"inn\");\n",
    "    let trie = builder.build();\n",
    "    let results_in_u8s: Vec<Vec<u8>> = trie.predictive_search(\"te\");\n",
    "    let results_in_str: Vec<&str> = results_in_u8s\n",
    "        .iter()\n",
    "        .map(|u8s| str::from_utf8(u8s).unwrap())\n",
    "        .collect();\n",
    "    println!(\"{:?}\", results_in_str);\n",
    "}\n",
    "\n",
    "testme();\n"
   ]
  },
  {
   "cell_type": "markdown",
   "id": "2cbe39ea",
   "metadata": {},
   "source": [
    "### Most likely your spellchecker is based on a trie\n",
    "\n",
    "* If your word is not in the trie do the following:\n",
    "  * Step 1: Find the largest prefix that is present and find the trie words with that prefix\n",
    "  * Step 2: Delete the first letter from your word and redo Step 1\n",
    "  * Step 3: Insert a letter (for all letters) to the beginning of the word and redo Step 1\n",
    "  * Step 4: Replace the beginning letter with a different one (for all letters) and redo Step 1\n",
    "  * Step 5: Transpose the first two letters and redo Step 1\n",
    "  * Step 6: Collect all words from Steps 1-5 sort by frequency of occurrence and present top 3-5 to user"
   ]
  },
  {
   "cell_type": "code",
   "execution_count": null,
   "id": "10bd72a3",
   "metadata": {
    "vscode": {
     "languageId": "rust"
    }
   },
   "outputs": [],
   "source": []
  }
 ],
 "metadata": {
  "celltoolbar": "Slideshow",
  "kernelspec": {
   "display_name": "Rust",
   "language": "rust",
   "name": "rust"
  },
  "language_info": {
   "codemirror_mode": "rust",
   "file_extension": ".rs",
   "mimetype": "text/rust",
   "name": "Rust",
   "pygment_lexer": "rust",
   "version": ""
  },
  "rise": {
   "theme": "beige",
   "transition": "fade"
  }
 },
 "nbformat": 4,
 "nbformat_minor": 5
}
